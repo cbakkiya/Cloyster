{
  "nbformat": 4,
  "nbformat_minor": 0,
  "metadata": {
    "colab": {
      "name": "Iterative_Control.ipynb",
      "provenance": [],
      "authorship_tag": "ABX9TyMhHjbGvjgdVhb837wiuftD",
      "include_colab_link": true
    },
    "kernelspec": {
      "name": "python3",
      "display_name": "Python 3"
    }
  },
  "cells": [
    {
      "cell_type": "markdown",
      "metadata": {
        "id": "view-in-github",
        "colab_type": "text"
      },
      "source": [
        "<a href=\"https://colab.research.google.com/github/ranjiGT/Python_Basics/blob/master/Iterative_Control.ipynb\" target=\"_parent\"><img src=\"https://colab.research.google.com/assets/colab-badge.svg\" alt=\"Open In Colab\"/></a>"
      ]
    },
    {
      "cell_type": "markdown",
      "metadata": {
        "id": "4Zxgiv1A2Lrm",
        "colab_type": "text"
      },
      "source": [
        "# ***Ternary Operator***\n",
        "\n",
        "Evolution of IF-ELSE\n",
        "\n",
        "*val1* IF *condition* ELSE *val2*"
      ]
    },
    {
      "cell_type": "code",
      "metadata": {
        "id": "slrr0pYcLvFd",
        "colab_type": "code",
        "colab": {}
      },
      "source": [
        "w1 = input(\"Weather Then:\")\n",
        "w2 = input(\"Weather Now:\")\n",
        "\"do not go\" if w1>w2 else \"go out\""
      ],
      "execution_count": null,
      "outputs": []
    },
    {
      "cell_type": "markdown",
      "metadata": {
        "id": "K5oKmX0k6sx0",
        "colab_type": "text"
      },
      "source": [
        "# ***The WHILE loop***"
      ]
    },
    {
      "cell_type": "code",
      "metadata": {
        "id": "tjqIFpeRNI-6",
        "colab_type": "code",
        "colab": {}
      },
      "source": [
        "x = int(input(\"Enter a value for N: \"))\n",
        "i = x\n",
        "while i >= 1 :\n",
        "  print(i, end=\" \")\n",
        "  i-=1"
      ],
      "execution_count": null,
      "outputs": []
    },
    {
      "cell_type": "markdown",
      "metadata": {
        "id": "UJZL5r5s7UV_",
        "colab_type": "text"
      },
      "source": [
        "# ***The FOR loop***"
      ]
    },
    {
      "cell_type": "code",
      "metadata": {
        "id": "iDUpVkm4Onyh",
        "colab_type": "code",
        "colab": {}
      },
      "source": [
        "cart_1 = [\"Milk\", \"Bread\", \"Butter\", \"Cola\", \"Meat\", \"Cookies\", \"Cookies\", \"Cookies\", \"Fish\"]\n",
        "cnt = 0\n",
        "for e in cart_1:\n",
        "  if e == \"Coffee\":\n",
        "    cnt += 1 \n",
        "print(\"Count: \",cnt)"
      ],
      "execution_count": null,
      "outputs": []
    },
    {
      "cell_type": "markdown",
      "metadata": {
        "id": "kodY5Lvk22Hj",
        "colab_type": "text"
      },
      "source": [
        "# ***Loop control - range() with FOR loop***"
      ]
    },
    {
      "cell_type": "code",
      "metadata": {
        "id": "W27yUq8ZQRX0",
        "colab_type": "code",
        "colab": {}
      },
      "source": [
        "#help(range)\n",
        "n = int(input(\"Enter a number: \"))\n",
        "times = int(input(\"Enter a range: \")) #input a number 1+ than the time you want to generate\n",
        "print(\"------------------------\")\n",
        "for i in range(1, times+1):\n",
        "  print(n, \"x\", i, \"=\", n*i)\n",
        "print(\"------------------------\")"
      ],
      "execution_count": null,
      "outputs": []
    }
  ]
}