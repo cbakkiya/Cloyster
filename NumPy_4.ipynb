{
  "nbformat": 4,
  "nbformat_minor": 0,
  "metadata": {
    "colab": {
      "name": "NumPy-4.ipynb",
      "provenance": [],
      "authorship_tag": "ABX9TyMD1Qs7z82Pu18hU2mj3XSr",
      "include_colab_link": true
    },
    "kernelspec": {
      "name": "python3",
      "display_name": "Python 3"
    }
  },
  "cells": [
    {
      "cell_type": "markdown",
      "metadata": {
        "id": "view-in-github",
        "colab_type": "text"
      },
      "source": [
        "<a href=\"https://colab.research.google.com/github/ranjiGT/Cloyster/blob/master/NumPy_4.ipynb\" target=\"_parent\"><img src=\"https://colab.research.google.com/assets/colab-badge.svg\" alt=\"Open In Colab\"/></a>"
      ]
    },
    {
      "cell_type": "markdown",
      "metadata": {
        "id": "IJUtsSW7w5RR",
        "colab_type": "text"
      },
      "source": [
        "#<font color ='yellow'> ***Matrix Operations***</font>\n",
        "\n",
        "<font color='red'>***video link***</font> --> https://youtu.be/YLKe0uhsYNc"
      ]
    },
    {
      "cell_type": "code",
      "metadata": {
        "id": "quY69gPfxNWG",
        "colab_type": "code",
        "colab": {}
      },
      "source": [
        "import pandas as pd\n",
        "df = pd.read_csv(\"Verkauf.csv\")\n",
        "df"
      ],
      "execution_count": null,
      "outputs": []
    },
    {
      "cell_type": "markdown",
      "metadata": {
        "id": "FnHRCprR0AOm",
        "colab_type": "text"
      },
      "source": [
        "# ***Requirement: Compute month-wise growth in sales***"
      ]
    },
    {
      "cell_type": "markdown",
      "metadata": {
        "id": "C5P0pILK-TJS",
        "colab_type": "text"
      },
      "source": [
        "***STEP 1***"
      ]
    },
    {
      "cell_type": "code",
      "metadata": {
        "id": "T0EQjpRiw2Qv",
        "colab_type": "code",
        "colab": {}
      },
      "source": [
        "import numpy as np\n",
        "sales_mat = np.array(df.loc[:,'JAN':]) #label-based selection\n",
        "print(sales_mat,sales_mat.shape) #original data matrix"
      ],
      "execution_count": null,
      "outputs": []
    },
    {
      "cell_type": "markdown",
      "metadata": {
        "id": "kGsMo9PG-f3A",
        "colab_type": "text"
      },
      "source": [
        "***STEP 2***\n",
        "\n",
        "> <font color='yellow'>***Usage of c_ expression***</font>\n",
        "\n"
      ]
    },
    {
      "cell_type": "code",
      "metadata": {
        "id": "y2b9TpNY6B65",
        "colab_type": "code",
        "colab": {}
      },
      "source": [
        "np.c_[np.array([1,2,3]), np.array([4,5,6])]#not a function but works like loc and iloc; for regression analysis to add bias; pipelining & preprocessing"
      ],
      "execution_count": null,
      "outputs": []
    },
    {
      "cell_type": "code",
      "metadata": {
        "id": "Wr0_8gPAIXLG",
        "colab_type": "code",
        "colab": {}
      },
      "source": [
        "np.c_[np.array([[1,2,3]]), 0, 0, np.array([[4,5,6]])]"
      ],
      "execution_count": null,
      "outputs": []
    },
    {
      "cell_type": "code",
      "metadata": {
        "id": "CMbTfN-X_B3v",
        "colab_type": "code",
        "colab": {}
      },
      "source": [
        "sales_mat_lag = sales_mat[:,1:]#slicing\n",
        "sales_mat_lag = np.c_[sales_mat_lag, np.zeros(100)] \n",
        "print(sales_mat_lag,sales_mat_lag.shape)"
      ],
      "execution_count": null,
      "outputs": []
    },
    {
      "cell_type": "markdown",
      "metadata": {
        "id": "XdoY-cNfPcmv",
        "colab_type": "text"
      },
      "source": [
        "https://stackoverflow.com/questions/10894323/what-does-the-c-underscore-expression-c-do-exactly"
      ]
    },
    {
      "cell_type": "markdown",
      "metadata": {
        "id": "PemQASZSNOtO",
        "colab_type": "text"
      },
      "source": [
        "***STEP 3***"
      ]
    },
    {
      "cell_type": "code",
      "metadata": {
        "id": "0T511-WDGB4S",
        "colab_type": "code",
        "colab": {}
      },
      "source": [
        "sales_mat_lag.size, sales_mat.size"
      ],
      "execution_count": null,
      "outputs": []
    },
    {
      "cell_type": "code",
      "metadata": {
        "id": "E_kYR0V8_wxq",
        "colab_type": "code",
        "colab": {}
      },
      "source": [
        "sales_diff = sales_mat_lag - sales_mat #For matrix subtraction the dimensions should be same\n",
        "print(sales_diff,sales_diff.shape)"
      ],
      "execution_count": null,
      "outputs": []
    },
    {
      "cell_type": "code",
      "metadata": {
        "id": "tgFoKUvV_o5b",
        "colab_type": "code",
        "colab": {}
      },
      "source": [
        "percent_diff = pd.DataFrame(sales_diff/sales_mat)\n",
        "(percent_diff*100).head(10)"
      ],
      "execution_count": null,
      "outputs": []
    }
  ]
}