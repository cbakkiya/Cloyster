{
  "nbformat": 4,
  "nbformat_minor": 0,
  "metadata": {
    "colab": {
      "name": "Strings.ipynb",
      "provenance": [],
      "authorship_tag": "ABX9TyPMrPOAgfeCOmDsgQfLf6Cs",
      "include_colab_link": true
    },
    "kernelspec": {
      "name": "python3",
      "display_name": "Python 3"
    }
  },
  "cells": [
    {
      "cell_type": "markdown",
      "metadata": {
        "id": "view-in-github",
        "colab_type": "text"
      },
      "source": [
        "<a href=\"https://colab.research.google.com/github/ranjiGT/Python_Basics/blob/master/Strings.ipynb\" target=\"_parent\"><img src=\"https://colab.research.google.com/assets/colab-badge.svg\" alt=\"Open In Colab\"/></a>"
      ]
    },
    {
      "cell_type": "markdown",
      "metadata": {
        "id": "swMm5Hejoqmj",
        "colab_type": "text"
      },
      "source": [
        "***Watchout the video for the explanation*** \n",
        "\n",
        "video link --> https://youtu.be/1NhqWKgQ-6c"
      ]
    },
    {
      "cell_type": "markdown",
      "metadata": {
        "id": "qnchmv4Je56j",
        "colab_type": "text"
      },
      "source": [
        "# ***Serves a relation with List***\n",
        "\n",
        "# ***4 different representations***"
      ]
    },
    {
      "cell_type": "code",
      "metadata": {
        "id": "h7I1kiQqez0Y",
        "colab_type": "code",
        "colab": {}
      },
      "source": [
        "s1 = \"SpaceX\"\n",
        "s2 = 'Spacex'\n",
        "s3 = '''D'mello Rd'''\n",
        "s4 = \"\"\" D'mello Rd \"\"\"\n",
        "print(s4)"
      ],
      "execution_count": null,
      "outputs": []
    },
    {
      "cell_type": "code",
      "metadata": {
        "id": "3AITd6q8hBU6",
        "colab_type": "code",
        "colab": {}
      },
      "source": [
        "d = \"Elon Musk is the owner of SpaceX\"\n",
        "#print(d)\n",
        "#len(d)\n",
        "#print(d.index('X'))\n",
        "#d.count('s')\n",
        "#print(d[::-1])\n",
        "#print(len(d))\n",
        "#d.split()\n",
        "d.endswith(\"SpaceX\")"
      ],
      "execution_count": null,
      "outputs": []
    }
  ]
}