{
  "nbformat": 4,
  "nbformat_minor": 0,
  "metadata": {
    "colab": {
      "name": "Pandas-1.ipynb",
      "provenance": [],
      "authorship_tag": "ABX9TyPHEs0imXiQ/q3BPNic+U9Y",
      "include_colab_link": true
    },
    "kernelspec": {
      "name": "python3",
      "display_name": "Python 3"
    }
  },
  "cells": [
    {
      "cell_type": "markdown",
      "metadata": {
        "id": "view-in-github",
        "colab_type": "text"
      },
      "source": [
        "<a href=\"https://colab.research.google.com/github/ranjiGT/Python_Basics/blob/master/Pandas_1.ipynb\" target=\"_parent\"><img src=\"https://colab.research.google.com/assets/colab-badge.svg\" alt=\"Open In Colab\"/></a>"
      ]
    },
    {
      "cell_type": "markdown",
      "metadata": {
        "id": "egJ9wR4ofSEd",
        "colab_type": "text"
      },
      "source": [
        "<font color='red'><b>video link --> https://youtu.be/TPqHwBDfBQA"
      ]
    },
    {
      "cell_type": "markdown",
      "metadata": {
        "id": "0tgbxV3iduNq",
        "colab_type": "text"
      },
      "source": [
        "## ***For Dataset handling***\n",
        "\n",
        "## Built on top of **NU**merical **PY**thon numpy"
      ]
    },
    {
      "cell_type": "markdown",
      "metadata": {
        "id": "uKfHWSgNgD4T",
        "colab_type": "text"
      },
      "source": [
        "# ***Importing libraries and dataset***"
      ]
    },
    {
      "cell_type": "code",
      "metadata": {
        "id": "Rtff2Rqk_xrv",
        "colab_type": "code",
        "colab": {}
      },
      "source": [
        "import pandas as pd #alias\n",
        "df = pd.read_csv(\"Ola_Rides_2018.csv\")\n",
        "df\n"
      ],
      "execution_count": null,
      "outputs": []
    },
    {
      "cell_type": "markdown",
      "metadata": {
        "id": "UQ10m7m3f_h1",
        "colab_type": "text"
      },
      "source": [
        "# ***Basic Operations***"
      ]
    },
    {
      "cell_type": "code",
      "metadata": {
        "id": "_AUrzerlB9fH",
        "colab_type": "code",
        "colab": {}
      },
      "source": [
        "df.dtypes"
      ],
      "execution_count": null,
      "outputs": []
    },
    {
      "cell_type": "code",
      "metadata": {
        "id": "FAJx2oMPCBTv",
        "colab_type": "code",
        "colab": {}
      },
      "source": [
        "df.head(n=10)"
      ],
      "execution_count": null,
      "outputs": []
    },
    {
      "cell_type": "code",
      "metadata": {
        "id": "0DklAsKaCMkN",
        "colab_type": "code",
        "colab": {}
      },
      "source": [
        "df.tail(n=10)"
      ],
      "execution_count": null,
      "outputs": []
    },
    {
      "cell_type": "code",
      "metadata": {
        "id": "uv-wQKeBCPN2",
        "colab_type": "code",
        "colab": {}
      },
      "source": [
        "df.describe(include=\"all\")"
      ],
      "execution_count": null,
      "outputs": []
    },
    {
      "cell_type": "code",
      "metadata": {
        "id": "Y1_Ys0MICqhl",
        "colab_type": "code",
        "colab": {}
      },
      "source": [
        "df.info()"
      ],
      "execution_count": null,
      "outputs": []
    },
    {
      "cell_type": "code",
      "metadata": {
        "id": "NFqIr1lVC0Px",
        "colab_type": "code",
        "colab": {}
      },
      "source": [
        "df.dropna()"
      ],
      "execution_count": null,
      "outputs": []
    },
    {
      "cell_type": "code",
      "metadata": {
        "id": "-BDDslkuDHbO",
        "colab_type": "code",
        "colab": {}
      },
      "source": [
        "df[\"SOURCE\"].value_counts()# count of unique start locations"
      ],
      "execution_count": null,
      "outputs": []
    },
    {
      "cell_type": "code",
      "metadata": {
        "id": "woZF65DODSku",
        "colab_type": "code",
        "colab": {}
      },
      "source": [
        "df[\"DESTINATION\"].value_counts()# count of unique destination locations"
      ],
      "execution_count": null,
      "outputs": []
    },
    {
      "cell_type": "markdown",
      "metadata": {
        "id": "TAqDlPZLfX2V",
        "colab_type": "text"
      },
      "source": [
        "# ***Positional Indexing***"
      ]
    },
    {
      "cell_type": "code",
      "metadata": {
        "id": "rewyHbJODhU3",
        "colab_type": "code",
        "colab": {}
      },
      "source": [
        "df.iloc[0:10,[0,2]]"
      ],
      "execution_count": null,
      "outputs": []
    },
    {
      "cell_type": "markdown",
      "metadata": {
        "id": "-ClKwX1pfdSk",
        "colab_type": "text"
      },
      "source": [
        "# ***Label-based Indexing***"
      ]
    },
    {
      "cell_type": "code",
      "metadata": {
        "id": "eT1VFDLrDqtO",
        "colab_type": "code",
        "colab": {}
      },
      "source": [
        "df.loc[0:10:,[\"FROM\",\"CATEGORY\"]]"
      ],
      "execution_count": null,
      "outputs": []
    },
    {
      "cell_type": "markdown",
      "metadata": {
        "id": "jjpDP5zvf35Y",
        "colab_type": "text"
      },
      "source": [
        "# ***A minor difference***"
      ]
    },
    {
      "cell_type": "code",
      "metadata": {
        "id": "zFjBs376ER42",
        "colab_type": "code",
        "colab": {}
      },
      "source": [
        "x = df[[\"FROM\"]]\n",
        "type(x)"
      ],
      "execution_count": null,
      "outputs": []
    },
    {
      "cell_type": "code",
      "metadata": {
        "id": "3yZOrpAIEd8Q",
        "colab_type": "code",
        "colab": {}
      },
      "source": [
        "y = df.loc[:,\"FROM\"]\n",
        "y"
      ],
      "execution_count": null,
      "outputs": []
    },
    {
      "cell_type": "markdown",
      "metadata": {
        "id": "OUnpDMyqfo9_",
        "colab_type": "text"
      },
      "source": [
        "# ***Converting Object to Date-Time***"
      ]
    },
    {
      "cell_type": "code",
      "metadata": {
        "id": "67Ngks00WqzV",
        "colab_type": "code",
        "colab": {}
      },
      "source": [
        "pd.to_datetime(df[\"TO\"],errors='coerce')"
      ],
      "execution_count": null,
      "outputs": []
    }
  ]
}