{
  "nbformat": 4,
  "nbformat_minor": 0,
  "metadata": {
    "colab": {
      "name": "Set.ipynb",
      "provenance": [],
      "authorship_tag": "ABX9TyPYiTpsuADyoL+nCc6H22u4",
      "include_colab_link": true
    },
    "kernelspec": {
      "name": "python3",
      "display_name": "Python 3"
    }
  },
  "cells": [
    {
      "cell_type": "markdown",
      "metadata": {
        "id": "view-in-github",
        "colab_type": "text"
      },
      "source": [
        "<a href=\"https://colab.research.google.com/github/ranjiGT/Python_Basics/blob/master/Set.ipynb\" target=\"_parent\"><img src=\"https://colab.research.google.com/assets/colab-badge.svg\" alt=\"Open In Colab\"/></a>"
      ]
    },
    {
      "cell_type": "markdown",
      "metadata": {
        "id": "4C9H7Cl0Grs1",
        "colab_type": "text"
      },
      "source": [
        "Video Link --> https://youtu.be/OCFKEEEFG_g"
      ]
    },
    {
      "cell_type": "markdown",
      "metadata": {
        "id": "K8LAXr50NUdH",
        "colab_type": "text"
      },
      "source": [
        "## ***No Duplicates***\n",
        "\n",
        "## ***No ordering of elements***\n",
        "\n",
        "## ***No subscript operator***\n",
        "\n",
        "## ***No slicing operator***\n",
        "\n",
        "## ***Mutable***\n",
        "\n",
        "## ***Heterogeneous elements*** "
      ]
    },
    {
      "cell_type": "markdown",
      "metadata": {
        "id": "n1dLBVrEXqqE",
        "colab_type": "text"
      },
      "source": [
        "# ***Creation***"
      ]
    },
    {
      "cell_type": "code",
      "metadata": {
        "id": "0N4AXs1xNRlV",
        "colab_type": "code",
        "colab": {}
      },
      "source": [
        "s = {}\n",
        "print(type(s))\n",
        "\n",
        "#Way 1\n",
        "s = {10, 20, 30}\n",
        "print(type(s))\n",
        "\n",
        "#Way 2\n",
        "t = set()\n",
        "print(type(t))"
      ],
      "execution_count": null,
      "outputs": []
    },
    {
      "cell_type": "markdown",
      "metadata": {
        "id": "tvRD_qi3Zgtb",
        "colab_type": "text"
      },
      "source": [
        "# ***Discard vs. Remove***"
      ]
    },
    {
      "cell_type": "code",
      "metadata": {
        "id": "tQXvTDXTZlJX",
        "colab_type": "code",
        "colab": {}
      },
      "source": [
        "s.discard(40)\n",
        "print(s)\n",
        "\n",
        "s.remove(40)\n",
        "print(s)"
      ],
      "execution_count": null,
      "outputs": []
    },
    {
      "cell_type": "markdown",
      "metadata": {
        "id": "kg12f7_BaD4h",
        "colab_type": "text"
      },
      "source": [
        "# ***List vs. Tuple storage***"
      ]
    },
    {
      "cell_type": "code",
      "metadata": {
        "id": "Yoki_m9WaIQo",
        "colab_type": "code",
        "colab": {}
      },
      "source": [
        "a = {1,2, (3,4), (5,9)}\n",
        "print(a)\n",
        "\n",
        "b = {[11,90],(3,6), 45, 23}\n",
        "print(b)"
      ],
      "execution_count": null,
      "outputs": []
    },
    {
      "cell_type": "markdown",
      "metadata": {
        "id": "AnWmKDuIacJY",
        "colab_type": "text"
      },
      "source": [
        "# ***No ordering, subscript, slicing, indexing***"
      ]
    },
    {
      "cell_type": "code",
      "metadata": {
        "id": "Zw3xY6v6aqSJ",
        "colab_type": "code",
        "colab": {}
      },
      "source": [
        "a = set(\"Starlink\")\n",
        "for i in a:\n",
        "  print(i, end=\" \")"
      ],
      "execution_count": null,
      "outputs": []
    },
    {
      "cell_type": "code",
      "metadata": {
        "id": "YNdrN1jSjl2B",
        "colab_type": "code",
        "colab": {}
      },
      "source": [
        "a[2::]"
      ],
      "execution_count": null,
      "outputs": []
    },
    {
      "cell_type": "markdown",
      "metadata": {
        "id": "a6PPvY66bq1t",
        "colab_type": "text"
      },
      "source": [
        "# ***pop() - randomly pops elements***"
      ]
    },
    {
      "cell_type": "code",
      "metadata": {
        "id": "vydZ6VwRbtTY",
        "colab_type": "code",
        "colab": {}
      },
      "source": [
        "s1 = {10, 45,20, (0,5), 56,34, 50}\n",
        "s1.pop()"
      ],
      "execution_count": null,
      "outputs": []
    },
    {
      "cell_type": "markdown",
      "metadata": {
        "id": "ESMVTkEUc2KD",
        "colab_type": "text"
      },
      "source": [
        "# ***Intersection, Union, Superset, Subset***"
      ]
    },
    {
      "cell_type": "code",
      "metadata": {
        "id": "3NsO3h_Fc1LH",
        "colab_type": "code",
        "colab": {}
      },
      "source": [
        "h = {33, 11, 44, 55}\n",
        "k = {55, 66, 11, 44, 33}\n",
        "\n",
        "print(h.union(k))\n",
        "print(k.intersection(h))\n",
        "print(h.issubset(k))\n",
        "print(h.issuperset(k))"
      ],
      "execution_count": null,
      "outputs": []
    },
    {
      "cell_type": "markdown",
      "metadata": {
        "id": "poWCW3IHgFL5",
        "colab_type": "text"
      },
      "source": [
        "# ***Create 2 different sets that corresponds to two different dices. Dice values are from 1 to 6 (faces on the dice).***\n",
        "# ***Requirement: PS to produce sample space to get sum of dice values when rolled is N***\n",
        "*Note: N is user input*"
      ]
    },
    {
      "cell_type": "code",
      "metadata": {
        "id": "A7BPZPMagL2O",
        "colab_type": "code",
        "colab": {}
      },
      "source": [
        "val1 = eval(input(\"Enter first set elements by comma separated: \"))\n",
        "X = set(val1)\n",
        "print(\"Dice 1:\",X)\n",
        "\n",
        "val2 = eval(input(\"Enter second set elements by comma separated: \"))\n",
        "Y = set(val2)\n",
        "print(\"Dice 2:\",Y)\n",
        "\n",
        "N=int(input(\"Enter a value for N: \"))\n",
        "\n",
        "if N==2:\n",
        "    print(\"{1,1}\")\n",
        "elif N==3:\n",
        "    print(\"{1,2},{2,1}\")\n",
        "elif N==4:\n",
        "    print(\"{1,3},{2,2},{3,1}\")\n",
        "elif N==5:\n",
        "    print(\"{2,3},{3,2},{4,1},{1,4}\")\n",
        "elif N==6:\n",
        "    print(\"{1,5},{5,1},{2,4},{4,2},{3,3}\")\n",
        "elif N==7:\n",
        "    print(\"{1,6},{6,1},{2,5},{5,2},{3,4}\")\n",
        "elif N==8:\n",
        "    print(\"{2,6},{6,2},{3,5},{5,3},{4,4}\")\n",
        "elif N==9:\n",
        "    print(\"{3,6},{6,3},{4,5},{5,4}\")\n",
        "elif N==10:\n",
        "    print(\"{4,6},{6,4},{5,5}\")\n",
        "elif N==11:\n",
        "    print(\"{5,6},{6,5}\")\n",
        "elif N==12:\n",
        "    print(\"{6,6}\")\n",
        "else:\n",
        "    print(\"Dice combination not possible! Enter value between 2-12\")"
      ],
      "execution_count": null,
      "outputs": []
    }
  ]
}