{
  "nbformat": 4,
  "nbformat_minor": 0,
  "metadata": {
    "colab": {
      "name": "Pandas-2.ipynb",
      "provenance": [],
      "authorship_tag": "ABX9TyNHu8hH/Njk4uI+7EHE2+CZ",
      "include_colab_link": true
    },
    "kernelspec": {
      "name": "python3",
      "display_name": "Python 3"
    }
  },
  "cells": [
    {
      "cell_type": "markdown",
      "metadata": {
        "id": "view-in-github",
        "colab_type": "text"
      },
      "source": [
        "<a href=\"https://colab.research.google.com/github/ranjiGT/Python_Basics/blob/master/Pandas_2.ipynb\" target=\"_parent\"><img src=\"https://colab.research.google.com/assets/colab-badge.svg\" alt=\"Open In Colab\"/></a>"
      ]
    },
    {
      "cell_type": "markdown",
      "metadata": {
        "id": "0C6srhHW-QZ3",
        "colab_type": "text"
      },
      "source": [
        "<font color = \"yellow\">Video link --></font> https://youtu.be/TjlG2mgAqFM"
      ]
    },
    {
      "cell_type": "code",
      "metadata": {
        "id": "wlHde9NSAUhO",
        "colab_type": "code",
        "colab": {}
      },
      "source": [
        "import pandas as pd\n",
        "import numpy as np\n",
        "df = pd.read_csv(\"Ola_Rides_2018.csv\")\n",
        "df.head(100)"
      ],
      "execution_count": null,
      "outputs": []
    },
    {
      "cell_type": "markdown",
      "metadata": {
        "id": "yY4GNiPf-R6V",
        "colab_type": "text"
      },
      "source": [
        "# ***Filtering*** "
      ]
    },
    {
      "cell_type": "markdown",
      "metadata": {
        "id": "Id_BGNIEBwM2",
        "colab_type": "text"
      },
      "source": [
        "***Find rides larger than 20 miles***"
      ]
    },
    {
      "cell_type": "code",
      "metadata": {
        "id": "H1Oe_4xY9bkp",
        "colab_type": "code",
        "colab": {}
      },
      "source": [
        "df.loc[df[\"MILES\"]>20,]"
      ],
      "execution_count": null,
      "outputs": []
    },
    {
      "cell_type": "markdown",
      "metadata": {
        "id": "ol_N2kkJi27a",
        "colab_type": "text"
      },
      "source": [
        " ***Selection of columns***"
      ]
    },
    {
      "cell_type": "code",
      "metadata": {
        "id": "f59NToU4CsHZ",
        "colab_type": "code",
        "colab": {}
      },
      "source": [
        "df.loc[df[\"MILES\"]>20, [\"MILES\",\"SOURCE\"]]"
      ],
      "execution_count": null,
      "outputs": []
    },
    {
      "cell_type": "markdown",
      "metadata": {
        "id": "9NIidY8fjAD6",
        "colab_type": "text"
      },
      "source": [
        "***Find trips to a particular location***"
      ]
    },
    {
      "cell_type": "code",
      "metadata": {
        "id": "4rBYORpwjIgR",
        "colab_type": "code",
        "colab": {}
      },
      "source": [
        "df.loc[df[\"DESTINATION\"]==\"Manhattan\",]"
      ],
      "execution_count": null,
      "outputs": []
    },
    {
      "cell_type": "markdown",
      "metadata": {
        "id": "oaWLRdV-jxBW",
        "colab_type": "text"
      },
      "source": [
        "***Finding trips from/to a specific location***"
      ]
    },
    {
      "cell_type": "code",
      "metadata": {
        "id": "P2eeTEBRj5In",
        "colab_type": "code",
        "colab": {}
      },
      "source": [
        "df.loc[df[\"SOURCE\"].isin([\"New York\",\"Krakaow\"])].head(50)"
      ],
      "execution_count": null,
      "outputs": []
    },
    {
      "cell_type": "markdown",
      "metadata": {
        "id": "GBZWjuKOkZlJ",
        "colab_type": "text"
      },
      "source": [
        "***Finding trips from specific locations with distances more than 20 miles***"
      ]
    },
    {
      "cell_type": "code",
      "metadata": {
        "id": "9ExIPEbvkpMq",
        "colab_type": "code",
        "colab": {}
      },
      "source": [
        "newdf=df.loc[(df[\"MILES\"] > 20) & df[\"SOURCE\"].isin([\"Magdeburg\",\"Tessenowstreet\"])]\n",
        "newdf.reset_index(inplace=True, drop=True)\n",
        "newdf"
      ],
      "execution_count": null,
      "outputs": []
    },
    {
      "cell_type": "markdown",
      "metadata": {
        "id": "mwP7cQnYlkG1",
        "colab_type": "text"
      },
      "source": [
        "***Missing value treatment***"
      ]
    },
    {
      "cell_type": "code",
      "metadata": {
        "id": "3ImQWWS-lob9",
        "colab_type": "code",
        "colab": {}
      },
      "source": [
        "df = df.fillna({\"OUTSTATION\":\"Not Mentioned\"})\n",
        "df[:-1:] #ignoring the last row (slicing operation)"
      ],
      "execution_count": null,
      "outputs": []
    },
    {
      "cell_type": "markdown",
      "metadata": {
        "id": "fgWH-eix-ZmY",
        "colab_type": "text"
      },
      "source": [
        "# ***Sorting***"
      ]
    },
    {
      "cell_type": "markdown",
      "metadata": {
        "id": "jejIg-M7nL-2",
        "colab_type": "text"
      },
      "source": [
        "***Sorting values from small to large***"
      ]
    },
    {
      "cell_type": "code",
      "metadata": {
        "id": "XdBIQKIwnUwm",
        "colab_type": "code",
        "colab": {}
      },
      "source": [
        "df.sort_values(by=[\"MILES\"],ascending=False)"
      ],
      "execution_count": null,
      "outputs": []
    },
    {
      "cell_type": "markdown",
      "metadata": {
        "id": "71eHQvqineRE",
        "colab_type": "text"
      },
      "source": [
        "***Multisorting on columns***"
      ]
    },
    {
      "cell_type": "code",
      "metadata": {
        "id": "GUqYEzOLnlFj",
        "colab_type": "code",
        "colab": {}
      },
      "source": [
        "df.sort_values(by=[\"SOURCE\", \"MILES\"],ascending=[True,False])"
      ],
      "execution_count": null,
      "outputs": []
    },
    {
      "cell_type": "markdown",
      "metadata": {
        "id": "_74DC2SqSdUZ",
        "colab_type": "text"
      },
      "source": [
        "# ***Summarization***"
      ]
    },
    {
      "cell_type": "code",
      "metadata": {
        "id": "qdyKSdGIRWeK",
        "colab_type": "code",
        "colab": {}
      },
      "source": [
        "df.groupby([\"DESTINATION\",]).mean() #groupby on non-numeric and agg on numeric (default for all numeric cols) # works only with mean()\n",
        "#df.groupby([\"DESTINATION\"])[\"MILES\"].agg(\"mean\") #on MILES #result is a series\n",
        "#df.groupby([\"DESTINATION\"])[\"PRICE-MILES*\"].agg(\"mean\") # on PRICE-MILES ##result is a series"
      ],
      "execution_count": null,
      "outputs": []
    },
    {
      "cell_type": "markdown",
      "metadata": {
        "id": "fb8H6z6p1_mA",
        "colab_type": "text"
      },
      "source": [
        "# ***Multiple Grouping***"
      ]
    },
    {
      "cell_type": "code",
      "metadata": {
        "id": "jLFG-lhKTXqy",
        "colab_type": "code",
        "colab": {}
      },
      "source": [
        "df.groupby([\"SOURCE\",\"DESTINATION\"]).agg([\"mean\",\"sum\",\"min\"]).head() "
      ],
      "execution_count": null,
      "outputs": []
    },
    {
      "cell_type": "markdown",
      "metadata": {
        "id": "UI4ByCZPyEWe",
        "colab_type": "text"
      },
      "source": [
        "## ***First ride and last ride along with average distance from where the trip started***"
      ]
    },
    {
      "cell_type": "code",
      "metadata": {
        "id": "AoOUWn1wtTyP",
        "colab_type": "code",
        "colab": {}
      },
      "source": [
        "df1 = df[:-1:]\n",
        "df1[\"FROM\"] = pd.to_datetime(df1[\"FROM\"], errors='coerce')\n",
        "df1[\"TO\"] = pd.to_datetime(df1[\"TO\"], errors='coerce')"
      ],
      "execution_count": null,
      "outputs": []
    },
    {
      "cell_type": "code",
      "metadata": {
        "id": "AEUjT5kiznk_",
        "colab_type": "code",
        "colab": {}
      },
      "source": [
        "res = df1.groupby([\"SOURCE\",\"DESTINATION\"]).agg({\"MILES\":[\"mean\"], \"FROM\":[\"min\",\"max\"], \"PRICE-MILES*\":[\"mean\"]} )\n",
        "res.reset_index(inplace=True)\n",
        "res.columns = [\"SOURCE*\",\"DESTINATION*\",\"AGG-DIST*\",\"FIRST TRIP*\",\"LATEST TRIP*\",\"AGG-PRICE/MILES*\"]\n",
        "res"
      ],
      "execution_count": null,
      "outputs": []
    }
  ]
}