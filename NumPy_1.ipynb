{
  "nbformat": 4,
  "nbformat_minor": 0,
  "metadata": {
    "colab": {
      "name": "NumPy-1.ipynb",
      "provenance": [],
      "authorship_tag": "ABX9TyOrknltSyLqNRMbpqGe6qqw",
      "include_colab_link": true
    },
    "kernelspec": {
      "name": "python3",
      "display_name": "Python 3"
    }
  },
  "cells": [
    {
      "cell_type": "markdown",
      "metadata": {
        "id": "view-in-github",
        "colab_type": "text"
      },
      "source": [
        "<a href=\"https://colab.research.google.com/github/ranjiGT/Clyoster/blob/master/NumPy_1.ipynb\" target=\"_parent\"><img src=\"https://colab.research.google.com/assets/colab-badge.svg\" alt=\"Open In Colab\"/></a>"
      ]
    },
    {
      "cell_type": "markdown",
      "metadata": {
        "id": "ilN5CWEGwTTW",
        "colab_type": "text"
      },
      "source": [
        "<font color='yellow'>***Video link*** --> https://youtu.be/wRUk5WsimFs\n",
        "\n",
        "# <font color='red'>***NUmerical PYthon (numpy)***\n",
        "\n",
        "https://numpy.org/doc/\n",
        "\n",
        "## ***Mainly used for matrix operations and numerical/scientific computations***\n",
        "\n",
        "## ***core of numpy lies ndarray***\n"
      ]
    },
    {
      "cell_type": "markdown",
      "metadata": {
        "id": "LfZV7Uy-yl_0",
        "colab_type": "text"
      },
      "source": [
        "# ***Revisiting Lists***"
      ]
    },
    {
      "cell_type": "code",
      "metadata": {
        "id": "7x90TXQZyp_Q",
        "colab_type": "code",
        "colab": {}
      },
      "source": [
        "mass = [10, 20, 30, 40]\n",
        "volume = [2, 4, 6, 8]\n",
        "\n",
        "for i in mass:\n",
        "  for x in volume:\n",
        "    print(\"Density:\",i/x)"
      ],
      "execution_count": null,
      "outputs": []
    },
    {
      "cell_type": "markdown",
      "metadata": {
        "id": "-5IWNrvr09cr",
        "colab_type": "text"
      },
      "source": [
        "# ***Revisiting List Comprehension***"
      ]
    },
    {
      "cell_type": "code",
      "metadata": {
        "id": "JchGMqiX1FDa",
        "colab_type": "code",
        "colab": {}
      },
      "source": [
        "mass=[10,20,30,40]                                \n",
        "volume=[2,4,6,8]                      \n",
        "c = [val + 5 for val in mass] \n",
        "d = [val + 5 for val in volume]          \n",
        "print(c+d)"
      ],
      "execution_count": null,
      "outputs": []
    },
    {
      "cell_type": "markdown",
      "metadata": {
        "id": "Jm6a1azyzZpS",
        "colab_type": "text"
      },
      "source": [
        "# ***array()***"
      ]
    },
    {
      "cell_type": "code",
      "metadata": {
        "id": "N_hEiK2bv4xZ",
        "colab_type": "code",
        "colab": {}
      },
      "source": [
        "import numpy as np\n",
        "\n",
        "mass = np.array(mass)\n",
        "print(\"Mass: \",mass,type(mass))\n",
        "vol = np.array(volume)\n",
        "print(\"Volume: \",vol)\n",
        "density = mass/vol\n",
        "print(\"Density:\",density,type(density)) #Result will be float"
      ],
      "execution_count": null,
      "outputs": []
    },
    {
      "cell_type": "markdown",
      "metadata": {
        "id": "DNingGWp5lfW",
        "colab_type": "text"
      },
      "source": [
        "# ***Direct operations***"
      ]
    },
    {
      "cell_type": "code",
      "metadata": {
        "id": "-_33AYWH1uNH",
        "colab_type": "code",
        "colab": {}
      },
      "source": [
        "print(mass+vol)\n",
        "print(mass+5)\n",
        "print(vol+5) "
      ],
      "execution_count": null,
      "outputs": []
    },
    {
      "cell_type": "markdown",
      "metadata": {
        "id": "dk-knjc23JZm",
        "colab_type": "text"
      },
      "source": [
        "# ***arange() & linspace()***"
      ]
    },
    {
      "cell_type": "code",
      "metadata": {
        "id": "BBdOaGh33N8s",
        "colab_type": "code",
        "colab": {}
      },
      "source": [
        "array1 = np.arange(20)                                                                #to create samples ~ to range()\n",
        "print ('Array 1 :', array1)\n",
        "\n",
        "array2 = np.arange(5,80,5)                                                          #arange function here works as a sequence or counter in increments of 5\n",
        "print('Array 2: ',array2)\n",
        "\n",
        "array3 = np.linspace(50,100,5)                                                    #max-min/n-1 --> this value added to min to generate the next number\n",
        "print ('Array 3:', array3)                                                        \n",
        "\n",
        "print('Array 3 rounded to next higher integer: ', np.round(array3, 0,))                                #output is always float for precision\n",
        "\n",
        "print(array3.sum())"
      ],
      "execution_count": null,
      "outputs": []
    }
  ]
}