{
  "nbformat": 4,
  "nbformat_minor": 0,
  "metadata": {
    "colab": {
      "name": "NumPy-2.ipynb",
      "provenance": [],
      "authorship_tag": "ABX9TyMbAQya1y5hR+1gkHwBz8bo",
      "include_colab_link": true
    },
    "kernelspec": {
      "name": "python3",
      "display_name": "Python 3"
    }
  },
  "cells": [
    {
      "cell_type": "markdown",
      "metadata": {
        "id": "view-in-github",
        "colab_type": "text"
      },
      "source": [
        "<a href=\"https://colab.research.google.com/github/ranjiGT/Cloyster/blob/master/NumPy_2.ipynb\" target=\"_parent\"><img src=\"https://colab.research.google.com/assets/colab-badge.svg\" alt=\"Open In Colab\"/></a>"
      ]
    },
    {
      "cell_type": "markdown",
      "metadata": {
        "id": "d_BPSqZ0U7va",
        "colab_type": "text"
      },
      "source": [
        "<font color='red'>***Video link*** --></font> https://youtu.be/WbUboxCXhkk\n",
        "# <font color='orange'>***Dimensions overview***"
      ]
    },
    {
      "cell_type": "code",
      "metadata": {
        "id": "n4Fh5VRSUosu",
        "colab_type": "code",
        "colab": {}
      },
      "source": [
        "import numpy as np\n",
        "\n",
        "data = [45000, 34098, 12877, 4501426, 799895, 109828, 298755, 1096353, 198649, 365741, 6332140, 962130] #Some population count for visualization\n",
        "data = np.array(data)\n",
        "redata = data.reshape(4,3)     #commonly used; Way 1\n",
        "#print(redata)\n",
        "data1 = data.reshape(2,2,3,1)  # vs. shape; Way 2\n",
        "print(\"Reshaped data (2 dim):\", redata)\n",
        "print(\"Reshaped data (4 dim):\",data1)\n",
        "\n",
        "print(\"Shape of data: \",data1.shape, \"Data type: \",data1.dtype, \"Size of data: \",data1.size,)"
      ],
      "execution_count": null,
      "outputs": []
    },
    {
      "cell_type": "markdown",
      "metadata": {
        "id": "Eqwgl4hG-x9L",
        "colab_type": "text"
      },
      "source": [
        "# <font color='yellow'>***Zeros matrix***</font>"
      ]
    },
    {
      "cell_type": "code",
      "metadata": {
        "id": "ishTifAK9KLp",
        "colab_type": "code",
        "colab": {}
      },
      "source": [
        "np.zeros(100)   # used in backprop algorithm to initialize weights  \n",
        "np.zeros((10,10)) #with tuple type\n",
        "np.zeros([10,10])+0.1 #with list type"
      ],
      "execution_count": null,
      "outputs": []
    },
    {
      "cell_type": "markdown",
      "metadata": {
        "id": "JhcjaX2F-LSL",
        "colab_type": "text"
      },
      "source": [
        "# <font color='yellow'>***Ones matrix***</font>"
      ]
    },
    {
      "cell_type": "code",
      "metadata": {
        "id": "cgEJ1Ri_97hR",
        "colab_type": "code",
        "colab": {}
      },
      "source": [
        "np.ones([5,10])-0.1 #Array of ones"
      ],
      "execution_count": null,
      "outputs": []
    },
    {
      "cell_type": "markdown",
      "metadata": {
        "id": "8ljbvb9C-46Z",
        "colab_type": "text"
      },
      "source": [
        "# <font color='yellow'>***Identity matrix/Unit matrix***</font>"
      ]
    },
    {
      "cell_type": "code",
      "metadata": {
        "id": "lKY9mR6u-IbD",
        "colab_type": "code",
        "colab": {}
      },
      "source": [
        "#np.eye(10) #all diagonal elements are 1 & non-diagonals 0\n",
        "np.identity(10) #used in eigen value calculations"
      ],
      "execution_count": null,
      "outputs": []
    },
    {
      "cell_type": "markdown",
      "metadata": {
        "id": "l6tV5QIX_bsY",
        "colab_type": "text"
      },
      "source": [
        "# <font color='yellow'>***Diagonal matrix***</font>"
      ]
    },
    {
      "cell_type": "code",
      "metadata": {
        "id": "-kjDVWvN_bB0",
        "colab_type": "code",
        "colab": {}
      },
      "source": [
        "np.diag([1,4,7,2,5,8])   #Used in SVD"
      ],
      "execution_count": null,
      "outputs": []
    }
  ]
}