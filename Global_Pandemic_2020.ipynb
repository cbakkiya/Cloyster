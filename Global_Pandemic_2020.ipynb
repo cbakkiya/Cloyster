{
  "nbformat": 4,
  "nbformat_minor": 0,
  "metadata": {
    "kernelspec": {
      "display_name": "Python 3",
      "language": "python",
      "name": "python3"
    },
    "language_info": {
      "codemirror_mode": {
        "name": "ipython",
        "version": 3
      },
      "file_extension": ".py",
      "mimetype": "text/x-python",
      "name": "python",
      "nbconvert_exporter": "python",
      "pygments_lexer": "ipython3",
      "version": "3.8.0"
    },
    "colab": {
      "name": "Global_Pandemic_2020",
      "provenance": [],
      "include_colab_link": true
    }
  },
  "cells": [
    {
      "cell_type": "markdown",
      "metadata": {
        "id": "view-in-github",
        "colab_type": "text"
      },
      "source": [
        "<a href=\"https://colab.research.google.com/github/ranjiGT/Cloyster/blob/master/Global_Pandemic_2020.ipynb\" target=\"_parent\"><img src=\"https://colab.research.google.com/assets/colab-badge.svg\" alt=\"Open In Colab\"/></a>"
      ]
    },
    {
      "cell_type": "markdown",
      "metadata": {
        "id": "IW2INa9wOM1v"
      },
      "source": [
        "<font color='red'>***Video:***</font> https://youtu.be/fg3B-EHUMBA"
      ]
    },
    {
      "cell_type": "code",
      "metadata": {
        "id": "dX2IusX9bzy0"
      },
      "source": [
        "import pandas as pd\n",
        "import warnings\n",
        "warnings.filterwarnings(\"ignore\")"
      ],
      "execution_count": null,
      "outputs": []
    },
    {
      "cell_type": "code",
      "metadata": {
        "id": "t83MGfSYbzy9"
      },
      "source": [
        "covid = pd.read_excel('owid-covid-data.xlsx')\n",
        "covid"
      ],
      "execution_count": null,
      "outputs": []
    },
    {
      "cell_type": "code",
      "metadata": {
        "id": "MsyCIOQwbzzI"
      },
      "source": [
        "#Looking at the shape\n",
        "covid.shape"
      ],
      "execution_count": null,
      "outputs": []
    },
    {
      "cell_type": "code",
      "metadata": {
        "id": "WlkmpJbtmhVJ"
      },
      "source": [
        "covid.dtypes"
      ],
      "execution_count": null,
      "outputs": []
    },
    {
      "cell_type": "code",
      "metadata": {
        "id": "dEFi-y0FbzzL"
      },
      "source": [
        "covid.columns"
      ],
      "execution_count": null,
      "outputs": []
    },
    {
      "cell_type": "code",
      "metadata": {
        "id": "7ltJncDGbzzP"
      },
      "source": [
        "#Looking at the different locations\n",
        "covid[\"location\"].value_counts()"
      ],
      "execution_count": null,
      "outputs": []
    },
    {
      "cell_type": "code",
      "metadata": {
        "id": "d_4oUEX1bzzU"
      },
      "source": [
        "#Checking if columns have null values\n",
        "covid.isna().any()"
      ],
      "execution_count": null,
      "outputs": []
    },
    {
      "cell_type": "code",
      "metadata": {
        "id": "WSh5-iJTbzzd"
      },
      "source": [
        "#Getting the sum of null values across each column\n",
        "covid.isna().sum()"
      ],
      "execution_count": null,
      "outputs": []
    },
    {
      "cell_type": "code",
      "metadata": {
        "id": "FNO0fKt1p-Gl"
      },
      "source": [
        "covid"
      ],
      "execution_count": null,
      "outputs": []
    },
    {
      "cell_type": "code",
      "metadata": {
        "id": "nSJ2P4WAbzzj"
      },
      "source": [
        "#Getting the cases in India\n",
        "india_case=covid[covid[\"location\"]==\"India\"] "
      ],
      "execution_count": null,
      "outputs": []
    },
    {
      "cell_type": "code",
      "metadata": {
        "id": "9BlIfiX1bzzn"
      },
      "source": [
        "india_case.head()"
      ],
      "execution_count": null,
      "outputs": []
    },
    {
      "cell_type": "code",
      "metadata": {
        "id": "k7ILCV2kbzzq"
      },
      "source": [
        "india_case.tail()"
      ],
      "execution_count": null,
      "outputs": []
    },
    {
      "cell_type": "code",
      "metadata": {
        "id": "QQHRXTeubzzu"
      },
      "source": [
        "import seaborn as sns\n",
        "from matplotlib import pyplot as plt"
      ],
      "execution_count": null,
      "outputs": []
    },
    {
      "cell_type": "code",
      "metadata": {
        "id": "W2cJAVvSbzzx"
      },
      "source": [
        "#Total cases per day\n",
        "sns.set(rc={'figure.figsize':(15,10)})\n",
        "sns.lineplot(x=\"date\",y=\"total_cases\",data=india_case)\n",
        "plt.show()"
      ],
      "execution_count": null,
      "outputs": []
    },
    {
      "cell_type": "code",
      "metadata": {
        "id": "VcAetZ4lbzz1"
      },
      "source": [
        "#Making a dataframe for last 5 days\n",
        "india_last_5_days=india_case.tail()"
      ],
      "execution_count": null,
      "outputs": []
    },
    {
      "cell_type": "code",
      "metadata": {
        "id": "ltl5y0xGbzz-"
      },
      "source": [
        "#Total cases in last 5 days\n",
        "sns.set(rc={'figure.figsize':(15,10)})\n",
        "sns.lineplot(x=\"date\",y=\"total_cases\",data=india_last_5_days)\n",
        "plt.show()"
      ],
      "execution_count": null,
      "outputs": []
    },
    {
      "cell_type": "code",
      "metadata": {
        "id": "2FZ_ajp7bz0C"
      },
      "source": [
        "#Total tests per day\n",
        "sns.set(rc={'figure.figsize':(15,10)})\n",
        "sns.lineplot(x=\"date\",y=\"total_tests\",data=india_case)\n",
        "plt.show()"
      ],
      "execution_count": null,
      "outputs": []
    },
    {
      "cell_type": "code",
      "metadata": {
        "id": "EvWUYi_Rbz0F"
      },
      "source": [
        "#Total tests in last 5 days\n",
        "sns.set(rc={'figure.figsize':(15,10)})\n",
        "sns.lineplot(x=\"date\",y=\"total_tests\",data=india_last_5_days)\n",
        "plt.show()"
      ],
      "execution_count": null,
      "outputs": []
    },
    {
      "cell_type": "code",
      "metadata": {
        "id": "LpoPKLvNbz0J"
      },
      "source": [
        "#Germany Case\n",
        "germany_case=covid[covid[\"location\"]==\"Germany\"] \n",
        "germany_case.head()"
      ],
      "execution_count": null,
      "outputs": []
    },
    {
      "cell_type": "code",
      "metadata": {
        "id": "ntGgepAXbz0O"
      },
      "source": [
        "germany_case.tail()"
      ],
      "execution_count": null,
      "outputs": []
    },
    {
      "cell_type": "code",
      "metadata": {
        "id": "daVLhmSobz0S"
      },
      "source": [
        "#Making a dataframe for germany for last 5 days\n",
        "de_last_5_days=germany_case.tail()"
      ],
      "execution_count": null,
      "outputs": []
    },
    {
      "cell_type": "code",
      "metadata": {
        "id": "dK-QV3rlbz0V"
      },
      "source": [
        "#Total cases in last 5 days\n",
        "sns.set(rc={'figure.figsize':(15,10)})\n",
        "sns.lineplot(x=\"date\",y=\"total_cases\",data=de_last_5_days)\n",
        "plt.show()"
      ],
      "execution_count": null,
      "outputs": []
    },
    {
      "cell_type": "code",
      "metadata": {
        "id": "fJcfS58Obz0Z"
      },
      "source": [
        "#Understanding cases of India, China and Japan\n",
        "ijc=covid[(covid[\"location\"] ==\"India\") | (covid[\"location\"] ==\"China\") | (covid[\"location\"]==\"Japan\")]"
      ],
      "execution_count": null,
      "outputs": []
    },
    {
      "cell_type": "code",
      "metadata": {
        "id": "4TMnSyTXbz0c"
      },
      "source": [
        "#Plotting growth of cases across China, India and Japan\n",
        "sns.set(rc={'figure.figsize':(15,10)})\n",
        "sns.barplot(x=\"location\",y=\"total_cases\",data=ijc,hue=\"date\")\n",
        "plt.show()"
      ],
      "execution_count": null,
      "outputs": []
    },
    {
      "cell_type": "code",
      "metadata": {
        "id": "AXDqGVm2bz0g"
      },
      "source": [
        "#Understanding cases of Germany and India\n",
        "inde=cov[(cov[\"location\"] ==\"India\") | (cov[\"location\"] ==\"Germany\")]"
      ],
      "execution_count": null,
      "outputs": []
    },
    {
      "cell_type": "code",
      "metadata": {
        "id": "yprgPPe5bz0l"
      },
      "source": [
        "#Plotting growth of cases across Germany and India\n",
        "sns.set(rc={'figure.figsize':(15,10)})\n",
        "sns.barplot(x=\"location\",y=\"total_cases\",data=inde,hue=\"date\")\n",
        "plt.show()"
      ],
      "execution_count": null,
      "outputs": []
    },
    {
      "cell_type": "code",
      "metadata": {
        "id": "0A99M7Pzbz0p"
      },
      "source": [
        "#Getting latest data\n",
        "last_day_cases=covid[covid[\"date\"]==\"2020-08-24\"]\n",
        "last_day_cases"
      ],
      "execution_count": null,
      "outputs": []
    },
    {
      "cell_type": "code",
      "metadata": {
        "id": "bc4sCUKrbz0s"
      },
      "source": [
        "#Sorting data w.r.t total_cases\n",
        "max_cases_country=last_day_cases.sort_values(by=\"total_cases\",ascending=False)\n",
        "max_cases_country"
      ],
      "execution_count": null,
      "outputs": []
    },
    {
      "cell_type": "code",
      "metadata": {
        "id": "iWdgVuaUbz0x"
      },
      "source": [
        "#Top 5 countries with maximum cases\n",
        "max_cases_country[1:6]"
      ],
      "execution_count": null,
      "outputs": []
    },
    {
      "cell_type": "code",
      "metadata": {
        "id": "9JEiB0Rzbz02"
      },
      "source": [
        "#Making bar-plot for countries with top cases\n",
        "sns.barplot(x=\"location\",y=\"total_cases\",data=max_cases_country[1:6],hue=\"location\")\n",
        "plt.show()"
      ],
      "execution_count": null,
      "outputs": []
    },
    {
      "cell_type": "code",
      "metadata": {
        "id": "b1fITBTfbz06"
      },
      "source": [
        "india_case.head()"
      ],
      "execution_count": null,
      "outputs": []
    },
    {
      "cell_type": "code",
      "metadata": {
        "id": "ctS-OEUebz1B"
      },
      "source": [
        "#converting string date to date-time\n",
        "import datetime as dt\n",
        "india_case['date'] = pd.to_datetime(india_case['date']) \n",
        "india_case.head()"
      ],
      "execution_count": null,
      "outputs": []
    },
    {
      "cell_type": "code",
      "metadata": {
        "id": "CIX5kuRy9IaM"
      },
      "source": [
        "india_case.dtypes"
      ],
      "execution_count": null,
      "outputs": []
    },
    {
      "cell_type": "code",
      "metadata": {
        "id": "b8V6PWk5bz1H"
      },
      "source": [
        "india_case.head()"
      ],
      "execution_count": null,
      "outputs": []
    },
    {
      "cell_type": "code",
      "metadata": {
        "id": "JPYRmpEAbz1M"
      },
      "source": [
        "#converting date-time to ordinal\n",
        "india_case['date']=india_case['date'].map(dt.datetime.toordinal)\n",
        "india_case.head()"
      ],
      "execution_count": null,
      "outputs": []
    }
  ]
}