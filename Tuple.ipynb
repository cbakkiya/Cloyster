{
  "nbformat": 4,
  "nbformat_minor": 0,
  "metadata": {
    "colab": {
      "name": "Tuple.ipynb",
      "provenance": [],
      "authorship_tag": "ABX9TyM6DcQUpdTS3GfFZKfpvtV8",
      "include_colab_link": true
    },
    "kernelspec": {
      "name": "python3",
      "display_name": "Python 3"
    }
  },
  "cells": [
    {
      "cell_type": "markdown",
      "metadata": {
        "id": "view-in-github",
        "colab_type": "text"
      },
      "source": [
        "<a href=\"https://colab.research.google.com/github/ranjiGT/Python_Basics/blob/master/Tuple.ipynb\" target=\"_parent\"><img src=\"https://colab.research.google.com/assets/colab-badge.svg\" alt=\"Open In Colab\"/></a>"
      ]
    },
    {
      "cell_type": "markdown",
      "metadata": {
        "id": "-Bf0hry8WtfS",
        "colab_type": "text"
      },
      "source": [
        "### ***Immutable***\n",
        "\n",
        "### ***Sequence data type***\n",
        "\n",
        "### ***Heterogeneous elements*** \n",
        "\n",
        "***Watchout the video for the explanation*** \n",
        "\n",
        "video link --> https://youtu.be/_tvfVn8YlKE"
      ]
    },
    {
      "cell_type": "code",
      "metadata": {
        "id": "aMZW_vPCqV2N",
        "colab_type": "code",
        "colab": {
          "base_uri": "https://localhost:8080/",
          "height": 34
        },
        "outputId": "e1df4014-d57e-40e9-c757-2e68d977b39d"
      },
      "source": [
        "t = ()\n",
        "t = (10,20,30,40)\n",
        "i = 0\n",
        "while i<len(t):\n",
        "  print(t[i], end=\" \")\n",
        "  i+=1\n",
        "id(t)"
      ],
      "execution_count": null,
      "outputs": [
        {
          "output_type": "stream",
          "text": [
            "10 20 30 40 "
          ],
          "name": "stdout"
        },
        {
          "output_type": "execute_result",
          "data": {
            "text/plain": [
              "140085010211768"
            ]
          },
          "metadata": {
            "tags": []
          },
          "execution_count": 7
        }
      ]
    },
    {
      "cell_type": "markdown",
      "metadata": {
        "id": "WLs9k9bcYLIe",
        "colab_type": "text"
      },
      "source": [
        "# ***All about Immutability***"
      ]
    },
    {
      "cell_type": "code",
      "metadata": {
        "id": "ZEHUXxLDroZp",
        "colab_type": "code",
        "colab": {}
      },
      "source": [
        "for i in t:\n",
        "  print(i**2)"
      ],
      "execution_count": null,
      "outputs": []
    },
    {
      "cell_type": "code",
      "metadata": {
        "id": "dYLzSWxqr3XC",
        "colab_type": "code",
        "colab": {}
      },
      "source": [
        "t=t[0:3:]\n",
        "print(t, id(t))\n",
        "t += (40,50,60)\n",
        "print(t, id(t))"
      ],
      "execution_count": null,
      "outputs": []
    },
    {
      "cell_type": "code",
      "metadata": {
        "id": "FYbH7MBes-4d",
        "colab_type": "code",
        "colab": {}
      },
      "source": [
        "l = [100, 200, 300]\n",
        "print(l, id(l))\n",
        "l.remove(200)\n",
        "print(l, id(l))"
      ],
      "execution_count": null,
      "outputs": []
    },
    {
      "cell_type": "markdown",
      "metadata": {
        "id": "WRAFXCuOYSRp",
        "colab_type": "text"
      },
      "source": [
        "# ***Packing***"
      ]
    },
    {
      "cell_type": "code",
      "metadata": {
        "id": "z4q0OYU4trgH",
        "colab_type": "code",
        "colab": {}
      },
      "source": [
        "a = \"Books\"\n",
        "b = \"Pens\"\n",
        "c = \"Tiffin Box\"\n",
        "t = (a,b,c) #packing\n",
        "print(t)\n",
        "print(id(t))"
      ],
      "execution_count": null,
      "outputs": []
    },
    {
      "cell_type": "markdown",
      "metadata": {
        "id": "gGeHSY_HYU7e",
        "colab_type": "text"
      },
      "source": [
        "# ***Unpacking***"
      ]
    },
    {
      "cell_type": "code",
      "metadata": {
        "id": "UR-V9HBOuImd",
        "colab_type": "code",
        "colab": {}
      },
      "source": [
        "t = \"Books\",\"Lunch Box\",\"Eraser\"\n",
        "d,e,f=t #unpacking\n",
        "for i in t:\n",
        "  print(id(i))"
      ],
      "execution_count": null,
      "outputs": []
    },
    {
      "cell_type": "markdown",
      "metadata": {
        "id": "9nRlXcDCYXM1",
        "colab_type": "text"
      },
      "source": [
        "# ***Repetition Operator***"
      ]
    },
    {
      "cell_type": "code",
      "metadata": {
        "id": "Iol-Bl4wu8uh",
        "colab_type": "code",
        "colab": {}
      },
      "source": [
        "t = 10,11,12\n",
        "print(t, id(t))\n",
        "t = t * 2\n",
        "print(t, id(t))"
      ],
      "execution_count": null,
      "outputs": []
    },
    {
      "cell_type": "markdown",
      "metadata": {
        "id": "llm54DnoYbUk",
        "colab_type": "text"
      },
      "source": [
        "# ***Comparison Operator***"
      ]
    },
    {
      "cell_type": "code",
      "metadata": {
        "id": "5MigDdx2vg7c",
        "colab_type": "code",
        "colab": {}
      },
      "source": [
        "k = (10,3.4,\"Tony\",False,1+4j)\n",
        "j = (11,3.4,\"Tony\",False,1+4j)\n",
        "\n",
        "k > j"
      ],
      "execution_count": null,
      "outputs": []
    },
    {
      "cell_type": "markdown",
      "metadata": {
        "id": "0mJJAyQRYgPo",
        "colab_type": "text"
      },
      "source": [
        "# ***eval()***"
      ]
    },
    {
      "cell_type": "code",
      "metadata": {
        "id": "hFqO_UuXwVJS",
        "colab_type": "code",
        "colab": {}
      },
      "source": [
        "y = eval(input(\"Enter elements: \"))\n",
        "print(y)"
      ],
      "execution_count": null,
      "outputs": []
    },
    {
      "cell_type": "code",
      "metadata": {
        "id": "qAnSjiAjw2Gt",
        "colab_type": "code",
        "colab": {}
      },
      "source": [
        "es, os = 0, 0 \n",
        "G = [eval(x) for x in input(\"Enter elements as comma separated: \").split(',')]#List Comprehension\n",
        "print(G)\n",
        "for i in range(len(G)):\n",
        "  if G[i]%2 == 0:\n",
        "    es += G[i]\n",
        "  else:\n",
        "    os += G[i]\n",
        "print(\"Sum of even numbers in G: \",es)\n",
        "print(\"Sum of odd numbers in G: \",os)"
      ],
      "execution_count": null,
      "outputs": []
    }
  ]
}