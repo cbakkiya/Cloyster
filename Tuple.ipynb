{
  "nbformat": 4,
  "nbformat_minor": 0,
  "metadata": {
    "colab": {
      "name": "Tuple.ipynb",
      "provenance": [],
      "authorship_tag": "ABX9TyPsbI4nWKJZOjH4Hel4asNN",
      "include_colab_link": true
    },
    "kernelspec": {
      "name": "python3",
      "display_name": "Python 3"
    }
  },
  "cells": [
    {
      "cell_type": "markdown",
      "metadata": {
        "id": "view-in-github",
        "colab_type": "text"
      },
      "source": [
        "<a href=\"https://colab.research.google.com/github/ranjiGT/Python_Basics/blob/master/Tuple.ipynb\" target=\"_parent\"><img src=\"https://colab.research.google.com/assets/colab-badge.svg\" alt=\"Open In Colab\"/></a>"
      ]
    },
    {
      "cell_type": "markdown",
      "metadata": {
        "id": "-Bf0hry8WtfS",
        "colab_type": "text"
      },
      "source": [
        "### ***Immutable***\n",
        "\n",
        "### ***Sequence data type***\n",
        "\n",
        "### ***Heterogeneous elements*** \n",
        "\n",
        "***Watchout the video for the explanation*** \n",
        "\n",
        "video link --> https://youtu.be/_tvfVn8YlKE"
      ]
    },
    {
      "cell_type": "code",
      "metadata": {
        "id": "aMZW_vPCqV2N",
        "colab_type": "code",
        "colab": {
          "base_uri": "https://localhost:8080/",
          "height": 34
        },
        "outputId": "e1df4014-d57e-40e9-c757-2e68d977b39d"
      },
      "source": [
        "t = ()\n",
        "t = (10,20,30,40)\n",
        "i = 0\n",
        "while i<len(t):\n",
        "  print(t[i], end=\" \")\n",
        "  i+=1\n",
        "id(t)"
      ],
      "execution_count": null,
      "outputs": [
        {
          "output_type": "stream",
          "text": [
            "10 20 30 40 "
          ],
          "name": "stdout"
        },
        {
          "output_type": "execute_result",
          "data": {
            "text/plain": [
              "140085010211768"
            ]
          },
          "metadata": {
            "tags": []
          },
          "execution_count": 7
        }
      ]
    },
    {
      "cell_type": "markdown",
      "metadata": {
        "id": "WLs9k9bcYLIe",
        "colab_type": "text"
      },
      "source": [
        "# ***All about Immutability***"
      ]
    },
    {
      "cell_type": "code",
      "metadata": {
        "id": "ZEHUXxLDroZp",
        "colab_type": "code",
        "colab": {}
      },
      "source": [
        "for i in t:\n",
        "  print(i**2)"
      ],
      "execution_count": null,
      "outputs": []
    },
    {
      "cell_type": "code",
      "metadata": {
        "id": "dYLzSWxqr3XC",
        "colab_type": "code",
        "colab": {}
      },
      "source": [
        "t=t[0:3:]\n",
        "print(t, id(t))\n",
        "t += (40,50,60)\n",
        "print(t, id(t))"
      ],
      "execution_count": null,
      "outputs": []
    },
    {
      "cell_type": "code",
      "metadata": {
        "id": "FYbH7MBes-4d",
        "colab_type": "code",
        "colab": {}
      },
      "source": [
        "l = [100, 200, 300]\n",
        "print(l, id(l))\n",
        "l.remove(200)\n",
        "print(l, id(l))"
      ],
      "execution_count": null,
      "outputs": []
    },
    {
      "cell_type": "markdown",
      "metadata": {
        "id": "WRAFXCuOYSRp",
        "colab_type": "text"
      },
      "source": [
        "# ***Packing***"
      ]
    },
    {
      "cell_type": "code",
      "metadata": {
        "id": "z4q0OYU4trgH",
        "colab_type": "code",
        "colab": {}
      },
      "source": [
        "a = \"Books\"\n",
        "b = \"Pens\"\n",
        "c = \"Tiffin Box\"\n",
        "t = (a,b,c) #packing\n",
        "print(t)\n",
        "print(id(t))"
      ],
      "execution_count": null,
      "outputs": []
    },
    {
      "cell_type": "markdown",
      "metadata": {
        "id": "gGeHSY_HYU7e",
        "colab_type": "text"
      },
      "source": [
        "# ***Unpacking***"
      ]
    },
    {
      "cell_type": "code",
      "metadata": {
        "id": "UR-V9HBOuImd",
        "colab_type": "code",
        "colab": {}
      },
      "source": [
        "t = \"Books\",\"Lunch Box\",\"Eraser\"\n",
        "d,e,f=t #unpacking\n",
        "for i in t:\n",
        "  print(id(i))"
      ],
      "execution_count": null,
      "outputs": []
    },
    {
      "cell_type": "markdown",
      "metadata": {
        "id": "9nRlXcDCYXM1",
        "colab_type": "text"
      },
      "source": [
        "# ***Repetition Operator***"
      ]
    },
    {
      "cell_type": "code",
      "metadata": {
        "id": "Iol-Bl4wu8uh",
        "colab_type": "code",
        "colab": {}
      },
      "source": [
        "t = 10,11,12\n",
        "print(t, id(t))\n",
        "t = t * 2\n",
        "print(t, id(t))"
      ],
      "execution_count": null,
      "outputs": []
    },
    {
      "cell_type": "markdown",
      "metadata": {
        "id": "llm54DnoYbUk",
        "colab_type": "text"
      },
      "source": [
        "# ***Comparison Operator***"
      ]
    },
    {
      "cell_type": "code",
      "metadata": {
        "id": "5MigDdx2vg7c",
        "colab_type": "code",
        "colab": {}
      },
      "source": [
        "k = (10,3.4,\"Tony\",False,1+4j)\n",
        "j = (11,3.4,\"Tony\",False,1+4j)\n",
        "\n",
        "k > j"
      ],
      "execution_count": null,
      "outputs": []
    },
    {
      "cell_type": "markdown",
      "metadata": {
        "id": "0mJJAyQRYgPo",
        "colab_type": "text"
      },
      "source": [
        "# ***eval()***"
      ]
    },
    {
      "cell_type": "code",
      "metadata": {
        "id": "hFqO_UuXwVJS",
        "colab_type": "code",
        "colab": {}
      },
      "source": [
        "y = eval(input(\"Enter elements: \"))\n",
        "print(y)"
      ],
      "execution_count": null,
      "outputs": []
    },
    {
      "cell_type": "code",
      "metadata": {
        "id": "qAnSjiAjw2Gt",
        "colab_type": "code",
        "colab": {}
      },
      "source": [
        "es, os = 0, 0 \n",
        "G = [eval(x) for x in input(\"Enter elements as comma separated: \").split(',')]#List Comprehension\n",
        "print(G)\n",
        "for i in range(len(G)):\n",
        "  if G[i]%2 == 0:\n",
        "    es += G[i]\n",
        "  else:\n",
        "    os += G[i]\n",
        "print(\"Sum of even numbers in G: \",es)\n",
        "print(\"Sum of odd numbers in G: \",os)"
      ],
      "execution_count": null,
      "outputs": []
    },
    {
      "cell_type": "code",
      "metadata": {
        "id": "nI2RKjVfeIfp",
        "colab_type": "code",
        "colab": {
          "base_uri": "https://localhost:8080/",
          "height": 34
        },
        "outputId": "9e4201f7-e830-4a45-918f-4ff3ae11cacb"
      },
      "source": [
        "s = {10,20}\n",
        "type(s)\n",
        "t = {}\n",
        "type(t)\n",
        "\n",
        "t = set()\n",
        "\n",
        "type(t)"
      ],
      "execution_count": null,
      "outputs": [
        {
          "output_type": "execute_result",
          "data": {
            "text/plain": [
              "set"
            ]
          },
          "metadata": {
            "tags": []
          },
          "execution_count": 9
        }
      ]
    },
    {
      "cell_type": "code",
      "metadata": {
        "id": "tnRZB5k7e95t",
        "colab_type": "code",
        "colab": {}
      },
      "source": [
        "a = set(\"Starlink\")\n",
        "for i in a:\n",
        "  print(i)"
      ],
      "execution_count": null,
      "outputs": []
    },
    {
      "cell_type": "code",
      "metadata": {
        "id": "qLrI5oAkgeF1",
        "colab_type": "code",
        "colab": {
          "base_uri": "https://localhost:8080/",
          "height": 34
        },
        "outputId": "62aa4580-9532-4e52-b9b2-bbf00d5eed6d"
      },
      "source": [
        "a.add(10)\n",
        "a"
      ],
      "execution_count": null,
      "outputs": [
        {
          "output_type": "execute_result",
          "data": {
            "text/plain": [
              "{10, 'S', 'a', 'i', 'k', 'l', 'n', 'r', 't'}"
            ]
          },
          "metadata": {
            "tags": []
          },
          "execution_count": 19
        }
      ]
    },
    {
      "cell_type": "code",
      "metadata": {
        "id": "aqbjgzIZgllA",
        "colab_type": "code",
        "colab": {
          "base_uri": "https://localhost:8080/",
          "height": 34
        },
        "outputId": "bbfde914-fc2d-4fd7-e3e4-91d9fb8d0d21"
      },
      "source": [
        "b = set([11,45])\n",
        "b"
      ],
      "execution_count": null,
      "outputs": [
        {
          "output_type": "execute_result",
          "data": {
            "text/plain": [
              "{11, 45}"
            ]
          },
          "metadata": {
            "tags": []
          },
          "execution_count": 22
        }
      ]
    },
    {
      "cell_type": "code",
      "metadata": {
        "id": "Sf0X_JT3i97o",
        "colab_type": "code",
        "colab": {
          "base_uri": "https://localhost:8080/",
          "height": 34
        },
        "outputId": "b09602d2-1996-42dc-cbec-ed2f5cb60e2f"
      },
      "source": [
        "b = {1,2,(3,60), (9,10)}\n",
        "b.pop()"
      ],
      "execution_count": null,
      "outputs": [
        {
          "output_type": "execute_result",
          "data": {
            "text/plain": [
              "(9, 10)"
            ]
          },
          "metadata": {
            "tags": []
          },
          "execution_count": 33
        }
      ]
    },
    {
      "cell_type": "code",
      "metadata": {
        "id": "GUN3V0dNjR06",
        "colab_type": "code",
        "colab": {}
      },
      "source": [
        "t = eval(input(\"Enter tuple elements: \"))\n",
        "print(\"Tuple with heterogeneous elements: \",tuple(t))\n",
        "A,B,C,D,E=[],[],[],[],[]\n",
        "a=0\n",
        "\n",
        "for i in t:\n",
        "    if t.index(i)==a:\n",
        "        if type(i)==int:\n",
        "            for c in range(t.count(i)):\n",
        "                A.append(i)\n",
        "        elif type(i)==float:\n",
        "            for c in range(t.count(i)):\n",
        "                B.append(i)\n",
        "        elif type(i)==str:\n",
        "            for c in range(t.count(i)):\n",
        "                C.append(i)\n",
        "        elif type(i)==bool:\n",
        "            for c in range(t.count(i)):\n",
        "                D.append(i)\n",
        "        elif type(i)==complex:\n",
        "            for c in range(t.count(i)):\n",
        "                E.append(i)\n",
        "        else:\n",
        "            pass\n",
        "            \n",
        "    a+=1\n",
        "print(\"Tuple with homogeneous elements: \")\n",
        "print(\"Integer tuple: \",tuple(A))\n",
        "print(\"Float tuple: \",tuple(B))\n",
        "print(\"String tuple: \",tuple(C))\n",
        "print(\"Boolean tuple: \",tuple(D))\n",
        "print(\"Complex tuple: \",tuple(E))"
      ],
      "execution_count": null,
      "outputs": []
    },
    {
      "cell_type": "code",
      "metadata": {
        "id": "egd7IKhKM3re",
        "colab_type": "code",
        "colab": {
          "base_uri": "https://localhost:8080/",
          "height": 34
        },
        "outputId": "d9adbfa5-89f5-4617-855e-a2ea3adc4314"
      },
      "source": [
        "v = {10, 20, 30, 30, 50}\n",
        "v"
      ],
      "execution_count": null,
      "outputs": [
        {
          "output_type": "execute_result",
          "data": {
            "text/plain": [
              "{10, 20, 30, 50}"
            ]
          },
          "metadata": {
            "tags": []
          },
          "execution_count": 22
        }
      ]
    },
    {
      "cell_type": "code",
      "metadata": {
        "id": "XGtD73e-SNh1",
        "colab_type": "code",
        "colab": {
          "base_uri": "https://localhost:8080/",
          "height": 34
        },
        "outputId": "0fd6d838-7ebe-49c6-89f9-1ab4977ae4ec"
      },
      "source": [
        "t = {11, 50, 90}\n",
        "v.intersection(t)"
      ],
      "execution_count": null,
      "outputs": [
        {
          "output_type": "execute_result",
          "data": {
            "text/plain": [
              "{50}"
            ]
          },
          "metadata": {
            "tags": []
          },
          "execution_count": 24
        }
      ]
    },
    {
      "cell_type": "code",
      "metadata": {
        "id": "1fFcp7QMS4WM",
        "colab_type": "code",
        "colab": {}
      },
      "source": [
        "v.remove(10)\n",
        "v"
      ],
      "execution_count": null,
      "outputs": []
    },
    {
      "cell_type": "markdown",
      "metadata": {
        "id": "H4f_MX4uX0Qt",
        "colab_type": "text"
      },
      "source": [
        "# ***Create 2 different sets that corresponds to two different dices. Dice values are from 1 to 6 (faces on the dice).***\n",
        "\n",
        "# ***Requirement: PS to produce sample spaceto get sum of dice values when rolled is N***\n",
        "\n",
        "*Note: N is user input*"
      ]
    },
    {
      "cell_type": "code",
      "metadata": {
        "id": "dUUVZizbW9cv",
        "colab_type": "code",
        "colab": {}
      },
      "source": [
        "val1 = eval(input(\"Enter first set elements by comma separated: \"))\n",
        "X = set(val1)\n",
        "print(\"Dice 1:\",X)\n",
        "\n",
        "val2 = eval(input(\"Enter second set elements by comma separated: \"))\n",
        "Y = set(val2)\n",
        "print(\"Dice 2:\",Y)\n",
        "\n",
        "N=int(input(\"Enter a value for N: \"))\n",
        "\n",
        "if N==2:\n",
        "    print(\"{1,1}\")\n",
        "elif N==3:\n",
        "    print(\"{1,2},{2,1}\")\n",
        "elif N==4:\n",
        "    print(\"{1,3},{2,2},{3,1}\")\n",
        "elif N==5:\n",
        "    print(\"{2,3},{3,2},{4,1},{1,4}\")\n",
        "elif N==6:\n",
        "    print(\"{1,5},{5,1},{2,4},{4,2},{3,3}\")\n",
        "elif N==7:\n",
        "    print(\"{1,6},{6,1},{2,5},{5,2},{3,4}\")\n",
        "elif N==8:\n",
        "    print(\"{2,6},{6,2},{3,5},{5,3},{4,4}\")\n",
        "elif N==9:\n",
        "    print(\"{3,6},{6,3},{4,5},{5,4}\")\n",
        "elif N==10:\n",
        "    print(\"{4,6},{6,4},{5,5}\")\n",
        "elif N==11:\n",
        "    print(\"{5,6},{6,5}\")\n",
        "elif N==12:\n",
        "    print(\"{6,6}\")\n",
        "else:\n",
        "    print(\"Dice combination not possible! Enter value between 2-12\")"
      ],
      "execution_count": null,
      "outputs": []
    }
  ]
}