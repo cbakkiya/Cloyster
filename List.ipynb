{
  "nbformat": 4,
  "nbformat_minor": 0,
  "metadata": {
    "colab": {
      "name": "List.ipynb",
      "provenance": [],
      "authorship_tag": "ABX9TyOGxYcu9mUKty4Vkym2EjRS",
      "include_colab_link": true
    },
    "kernelspec": {
      "name": "python3",
      "display_name": "Python 3"
    }
  },
  "cells": [
    {
      "cell_type": "markdown",
      "metadata": {
        "id": "view-in-github",
        "colab_type": "text"
      },
      "source": [
        "<a href=\"https://colab.research.google.com/github/ranjiGT/Python_Basics/blob/master/List.ipynb\" target=\"_parent\"><img src=\"https://colab.research.google.com/assets/colab-badge.svg\" alt=\"Open In Colab\"/></a>"
      ]
    },
    {
      "cell_type": "markdown",
      "metadata": {
        "id": "0PpaDzmwxENS",
        "colab_type": "text"
      },
      "source": [
        "Video Link --> https://youtu.be/syDNkRcenuQ"
      ]
    },
    {
      "cell_type": "markdown",
      "metadata": {
        "id": "-pjQyaxtkgHF",
        "colab_type": "text"
      },
      "source": [
        "# ***List Data Type***\n",
        "\n",
        "*Stores elements of **heterogeneous** types*\n",
        "\n",
        "***Mutable***\n",
        "\n",
        "***Unordered***"
      ]
    },
    {
      "cell_type": "code",
      "metadata": {
        "id": "lW9Y9nSMpNxn",
        "colab_type": "code",
        "colab": {}
      },
      "source": [
        "help(list)"
      ],
      "execution_count": null,
      "outputs": []
    },
    {
      "cell_type": "code",
      "metadata": {
        "id": "dh0VVSQypdMU",
        "colab_type": "code",
        "colab": {}
      },
      "source": [
        "L = [] #empty list \n",
        "n = int(input(\"How many elements do you want to store ? \"))\n",
        "for i in range(1, n+1):\n",
        "  el = int(input(\"Enter elements: \"))\n",
        "  L.append(el)\n",
        "  L.sort()\n",
        "print(\"Sorted list: \",L)\n"
      ],
      "execution_count": null,
      "outputs": []
    },
    {
      "cell_type": "code",
      "metadata": {
        "id": "tAnFyDwIq7hv",
        "colab_type": "code",
        "colab": {}
      },
      "source": [
        "print(L)\n",
        "#L.remove(40)\n",
        "#L.append(40)\n",
        "#L.sort()"
      ],
      "execution_count": null,
      "outputs": []
    },
    {
      "cell_type": "code",
      "metadata": {
        "id": "ZGLRZ43msphy",
        "colab_type": "code",
        "colab": {}
      },
      "source": [
        "x = 10\n",
        "y=bin(x)\n",
        "print(y[2::])"
      ],
      "execution_count": null,
      "outputs": []
    },
    {
      "cell_type": "markdown",
      "metadata": {
        "id": "eNmGFsWLk3y_",
        "colab_type": "text"
      },
      "source": [
        "# ***Slicing***\n",
        "\n",
        "https://python-reference.readthedocs.io/en/latest/docs/brackets/slicing.html"
      ]
    },
    {
      "cell_type": "code",
      "metadata": {
        "id": "_C0OzkB3tN0J",
        "colab_type": "code",
        "colab": {}
      },
      "source": [
        "L[::3]"
      ],
      "execution_count": null,
      "outputs": []
    },
    {
      "cell_type": "code",
      "metadata": {
        "id": "yZW_nAz-Ypq0",
        "colab_type": "code",
        "colab": {
          "base_uri": "https://localhost:8080/",
          "height": 50
        },
        "outputId": "75f50daa-4ddf-4f35-9ff3-f2b8d1dc7d08"
      },
      "source": [
        "E=[eval(x) for x in input(\"Enter list of elements: \").split(',')]\n",
        "e = eval(input(\"Enter element value: \"))\n",
        "index = 0\n",
        "while index < len(E):\n",
        "    if E[index]==e:\n",
        "        print(index, end=' ')\n",
        "    index+=1"
      ],
      "execution_count": null,
      "outputs": [
        {
          "output_type": "stream",
          "text": [
            "Enter list of elements: \"Space\"\n",
            "Enter element value: e\n"
          ],
          "name": "stdout"
        }
      ]
    },
    {
      "cell_type": "code",
      "metadata": {
        "id": "wRfLWrD2aXk9",
        "colab_type": "code",
        "colab": {
          "base_uri": "https://localhost:8080/",
          "height": 67
        },
        "outputId": "ad76b825-606d-4624-ff73-f98311107abe"
      },
      "source": [
        "s = \"Elon Musk is the owner of SpaceX\"\n",
        "print(s[5::])\n",
        "print(len(s))\n",
        "#s.startswith(\"Musk\")\n",
        "#s.split()\n",
        "s.count('e')"
      ],
      "execution_count": null,
      "outputs": [
        {
          "output_type": "stream",
          "text": [
            "Musk is the owner of SpaceX\n",
            "32\n"
          ],
          "name": "stdout"
        },
        {
          "output_type": "execute_result",
          "data": {
            "text/plain": [
              "3"
            ]
          },
          "metadata": {
            "tags": []
          },
          "execution_count": 44
        }
      ]
    }
  ]
}