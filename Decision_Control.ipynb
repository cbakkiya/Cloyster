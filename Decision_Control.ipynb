{
  "nbformat": 4,
  "nbformat_minor": 0,
  "metadata": {
    "colab": {
      "name": "Decision  Control.ipynb",
      "provenance": [],
      "authorship_tag": "ABX9TyOgudUagEeeGASrqyyWBar4",
      "include_colab_link": true
    },
    "kernelspec": {
      "name": "python3",
      "display_name": "Python 3"
    }
  },
  "cells": [
    {
      "cell_type": "markdown",
      "metadata": {
        "id": "view-in-github",
        "colab_type": "text"
      },
      "source": [
        "<a href=\"https://colab.research.google.com/github/ranjiGT/Python_Basics/blob/master/Decision_Control.ipynb\" target=\"_parent\"><img src=\"https://colab.research.google.com/assets/colab-badge.svg\" alt=\"Open In Colab\"/></a>"
      ]
    },
    {
      "cell_type": "markdown",
      "metadata": {
        "id": "eb8WAqdItByE",
        "colab_type": "text"
      },
      "source": [
        "[My Channel](https://www.youtube.com/channel/UCl1Tqc3U-TAOjuh4izHLsUw)"
      ]
    },
    {
      "cell_type": "markdown",
      "metadata": {
        "id": "avDUVLxtl-2z",
        "colab_type": "text"
      },
      "source": [
        "# ***Modules***\n",
        "It is a .py file consisiting of py code. Further has functions, classes, variables. ~a template ~reusability\n",
        "\n",
        "E.g. Math.py"
      ]
    },
    {
      "cell_type": "code",
      "metadata": {
        "id": "Xb2T9NrJMOhL",
        "colab_type": "code",
        "colab": {}
      },
      "source": [
        "from math import *\n",
        "help(pow)"
      ],
      "execution_count": null,
      "outputs": []
    },
    {
      "cell_type": "markdown",
      "metadata": {
        "id": "_Vp8Mhv_qSXY",
        "colab_type": "text"
      },
      "source": [
        "# ***Separator and EndSetter in Print()***\n",
        "\n",
        "Separator -> for two different values\n",
        "endsetter -> for two different print statements"
      ]
    },
    {
      "cell_type": "code",
      "metadata": {
        "id": "pI8rAOLPMxzQ",
        "colab_type": "code",
        "colab": {}
      },
      "source": [
        "x = 10\n",
        "y = 20\n",
        "print(x,y, sep=\",\",end=\" \")\n",
        "print(\"endsetter\")"
      ],
      "execution_count": null,
      "outputs": []
    },
    {
      "cell_type": "code",
      "metadata": {
        "id": "rYqsuJYsNvs-",
        "colab_type": "code",
        "colab": {}
      },
      "source": [
        "n = int(input(\"Enter value for n: \"))\n",
        "i = 1\n",
        "while i <= n:\n",
        "  print(i, end=\" \")\n",
        "  i+=1\n"
      ],
      "execution_count": null,
      "outputs": []
    },
    {
      "cell_type": "markdown",
      "metadata": {
        "id": "oX3zK4fQqyKl",
        "colab_type": "text"
      },
      "source": [
        "# ***Formatted Print***\n",
        "\n",
        "Are Format specifiers like %d, %s, %c, %f & has syntax and semantics similar to C language"
      ]
    },
    {
      "cell_type": "markdown",
      "metadata": {
        "id": "hMdU-WYCr-_U",
        "colab_type": "text"
      },
      "source": [
        "# ***Replacement Operator***\n",
        "\n",
        "*Application in Speech to Text conversion*"
      ]
    },
    {
      "cell_type": "code",
      "metadata": {
        "id": "JbwDDeFNPh0C",
        "colab_type": "code",
        "colab": {}
      },
      "source": [
        "a = \"Saxony-Anhalt\"\n",
        "lati = \"51.9503 N\"\n",
        "longi = \"11.6923 E\"\n",
        "print(\"Address={2} latitude={1} longitude={0}\".format(a,lati,longi))"
      ],
      "execution_count": null,
      "outputs": []
    },
    {
      "cell_type": "code",
      "metadata": {
        "id": "_HnL0ExuQvgY",
        "colab_type": "code",
        "colab": {}
      },
      "source": [
        "a = float(input(\"Enter value for a: \"))\n",
        "b = float(input(\"Enter value for b: \"))\n",
        "c = float(input(\"Enter value for c: \"))\n",
        "\n",
        "d = pow(b,2) - 4*a*c \n",
        "print(\"Determinant: \" ,d)\n",
        "\n",
        "if d>0:\n",
        "  r1 = (-b+sqrt(d)/(2*a))\n",
        "  r2 = (-b-sqrt(d)/(2*a))\n",
        "  print(\"root1 = \" ,r1, \"and root2 = \",r2)\n",
        "  print(\"Roots are real and different\")\n",
        "elif d==0:\n",
        "  r1 = r2 = -b/(2*a)\n",
        "  print(\"root1 = \" ,r1, \"and root2 = \",r2)\n",
        "  print(\"Roots are real and equal\")\n",
        "else:\n",
        "  real = -b/(2*a)\n",
        "  img = sqrt(-d)/(2*a)\n",
        "  print(\"Real: \",real)\n",
        "  print(\"Imaginary: \",img)\n",
        "  print(\"root1 = \" ,real,\"+\",img,\"i\" \" and root2 = \",real,-img,\"i\")\n",
        "  print(\"Roots are imaginary\")\n"
      ],
      "execution_count": null,
      "outputs": []
    },
    {
      "cell_type": "markdown",
      "metadata": {
        "id": "yRSssTwEfo00",
        "colab_type": "text"
      },
      "source": [
        "# ***Nature of roots of a quadratic equation(formatted string)***\n",
        "\n",
        "(*There are some errors in this code! just for your exercise! To cross check the output should be same as with the programs discussed in videos!!!*)"
      ]
    },
    {
      "cell_type": "code",
      "metadata": {
        "id": "fbRVWnMHflgq",
        "colab_type": "code",
        "colab": {}
      },
      "source": [
        "a = float(input(\"Enter value for a: \"))\n",
        "b = float(input(\"Enter value for b: \"))\n",
        "c = float(input(\"Enter value for c: \"))\n",
        "\n",
        "d = float(b**2-4*a*c)\n",
        "print(\"Determinant is %g\" %d)\n",
        "\n",
        "if d>0 :\n",
        "    r1 = float((-b+sqrt(d))/(2*a))\n",
        "    r2 = float((-b-sqrt(d))/(2*a))\n",
        "    print(\"root 1 = %g and root 2 = %g\" %(r1,r2))\n",
        "    print(\"Roots are real and different\")\n",
        "elif d == 0:\n",
        "    r1 = r2 = -b/(2*a)\n",
        "    print(\"root 1= %g root 2= %g\" %(r1,r2))\n",
        "    print(\"Roots are real and equal\")\n",
        "else:\n",
        "    real = float(-b/(2*a))\n",
        "    img = float(sqrt(-d)/(2*a))\n",
        "    print(\"root 1 =\" %g+%gi \"and\" \"root 2 =\" %g-%gi %(real,img,real,img))\n",
        "    print(\"Roots are imaginary\")\n"
      ],
      "execution_count": null,
      "outputs": []
    }
  ]
}