{
  "nbformat": 4,
  "nbformat_minor": 0,
  "metadata": {
    "colab": {
      "name": "Dictionary.ipynb",
      "provenance": [],
      "authorship_tag": "ABX9TyMLRhSiPzXRNl9+dFF/wKQ0",
      "include_colab_link": true
    },
    "kernelspec": {
      "name": "python3",
      "display_name": "Python 3"
    }
  },
  "cells": [
    {
      "cell_type": "markdown",
      "metadata": {
        "id": "view-in-github",
        "colab_type": "text"
      },
      "source": [
        "<a href=\"https://colab.research.google.com/github/ranjiGT/Python_Basics/blob/master/Dictionary.ipynb\" target=\"_parent\"><img src=\"https://colab.research.google.com/assets/colab-badge.svg\" alt=\"Open In Colab\"/></a>"
      ]
    },
    {
      "cell_type": "markdown",
      "metadata": {
        "id": "b3B_QbixIFlN",
        "colab_type": "text"
      },
      "source": [
        "video link --> https://youtu.be/odHzZXaV_ac"
      ]
    },
    {
      "cell_type": "markdown",
      "metadata": {
        "id": "zaxbkGQQU4Q5",
        "colab_type": "text"
      },
      "source": [
        "## ***Contains key-value pair*** \n",
        "\n",
        "## ***Keys are unique (multi-type)***\n",
        "\n",
        "## ***Values are non-unique (multi-type)***\n",
        "\n",
        "## ***Heterogeneous keys and values***\n",
        "\n",
        "## ***Parent to SET***\n",
        "\n",
        "## ***Hence, No indexing, slicing, ordering of key-value pairs***\n",
        "\n",
        "## ***Mutable***"
      ]
    },
    {
      "cell_type": "markdown",
      "metadata": {
        "id": "kyXOTBMBWNp5",
        "colab_type": "text"
      },
      "source": [
        "# ***Creation***"
      ]
    },
    {
      "cell_type": "code",
      "metadata": {
        "id": "YC8MKsXpPjLA",
        "colab_type": "code",
        "colab": {
          "base_uri": "https://localhost:8080/",
          "height": 34
        },
        "outputId": "78ad6d7a-aeeb-4fbc-99cf-4023b7e372af"
      },
      "source": [
        "d = {}\n",
        "type(d)"
      ],
      "execution_count": null,
      "outputs": [
        {
          "output_type": "execute_result",
          "data": {
            "text/plain": [
              "dict"
            ]
          },
          "metadata": {
            "tags": []
          },
          "execution_count": 49
        }
      ]
    },
    {
      "cell_type": "code",
      "metadata": {
        "id": "Z1TCVuQOWXs1",
        "colab_type": "code",
        "colab": {
          "base_uri": "https://localhost:8080/",
          "height": 50
        },
        "outputId": "98869506-d420-4b4f-a373-e10eb8ac8a1e"
      },
      "source": [
        "f = {10:'Alia',11:'Binod'} # Way 1\n",
        "print(f)\n",
        "g = dict(one = \"Marvel\", two = \"DC Books\") # Way 2\n",
        "print(g)"
      ],
      "execution_count": null,
      "outputs": [
        {
          "output_type": "stream",
          "text": [
            "{10: 'Alia', 11: 'Binod'}\n",
            "{'one': 'Marvel', 'two': 'DC Books'}\n"
          ],
          "name": "stdout"
        }
      ]
    },
    {
      "cell_type": "markdown",
      "metadata": {
        "id": "mfbIrl3EiRNJ",
        "colab_type": "text"
      },
      "source": [
        "# ***Accessing elements using List Comprehension***\n",
        "\n",
        "***Derives tuple and list***"
      ]
    },
    {
      "cell_type": "code",
      "metadata": {
        "id": "bC4rmILVh1P0",
        "colab_type": "code",
        "colab": {
          "base_uri": "https://localhost:8080/",
          "height": 34
        },
        "outputId": "9059e2fc-ae99-4122-b2af-5b0120ef449e"
      },
      "source": [
        "company_data = {101:[\"Bosch\",\"Porsche\"], 102:[\"Stark Industries\",\"Schneider\"], 103:[\"Intel\"]}\n",
        "print([val for val in company_data.items()]) #Most used\n",
        "\n",
        "#for k in company_data:\n",
        " # print(\"Key\", k, \", Value\",company_data[k])\n",
        "\n",
        "#print(company_data.keys())"
      ],
      "execution_count": null,
      "outputs": [
        {
          "output_type": "stream",
          "text": [
            "[(101, ['Bosch', 'Porsche']), (102, ['Stark Industries', 'Schneider']), (103, ['Intel'])]\n"
          ],
          "name": "stdout"
        }
      ]
    },
    {
      "cell_type": "markdown",
      "metadata": {
        "id": "PHBWdSXPt_Lx",
        "colab_type": "text"
      },
      "source": [
        "# ***Data Manipulation***"
      ]
    },
    {
      "cell_type": "code",
      "metadata": {
        "id": "u7a5jtLOu64P",
        "colab_type": "code",
        "colab": {
          "base_uri": "https://localhost:8080/",
          "height": 67
        },
        "outputId": "1c53047e-77cd-455d-b557-18e5bc6fe65f"
      },
      "source": [
        "company_data = {110:[\"Bosch\",\"Porsche\"], 102:[\"Stark Industries\",\"Schneider\"], 103:[\"Intel\"]}\n",
        "company_data"
      ],
      "execution_count": null,
      "outputs": [
        {
          "output_type": "execute_result",
          "data": {
            "text/plain": [
              "{102: ['Stark Industries', 'Schneider'],\n",
              " 103: ['Intel'],\n",
              " 110: ['Bosch', 'Porsche']}"
            ]
          },
          "metadata": {
            "tags": []
          },
          "execution_count": 55
        }
      ]
    },
    {
      "cell_type": "code",
      "metadata": {
        "id": "kFK10I8suDF0",
        "colab_type": "code",
        "colab": {
          "base_uri": "https://localhost:8080/",
          "height": 34
        },
        "outputId": "e2503332-06bd-4f72-af71-beb9b2f049b6"
      },
      "source": [
        "del(company_data[102])\n",
        "print(company_data)"
      ],
      "execution_count": null,
      "outputs": [
        {
          "output_type": "stream",
          "text": [
            "{101: ['Bosch', 'Porsche'], 103: ['Intel']}\n"
          ],
          "name": "stdout"
        }
      ]
    },
    {
      "cell_type": "code",
      "metadata": {
        "id": "o-GaPE39uV4w",
        "colab_type": "code",
        "colab": {
          "base_uri": "https://localhost:8080/",
          "height": 34
        },
        "outputId": "3e390920-e080-4442-fb85-3da898a22a0a"
      },
      "source": [
        "company_data.clear()\n",
        "print(type(company_data))"
      ],
      "execution_count": null,
      "outputs": [
        {
          "output_type": "stream",
          "text": [
            "<class 'dict'>\n"
          ],
          "name": "stdout"
        }
      ]
    }
  ]
}