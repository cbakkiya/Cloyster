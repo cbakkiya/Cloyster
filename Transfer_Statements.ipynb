{
  "nbformat": 4,
  "nbformat_minor": 0,
  "metadata": {
    "colab": {
      "name": "Transfer_Statements.ipynb",
      "provenance": [],
      "authorship_tag": "ABX9TyOfRoG0t++e+Xlt5PP1HiZc",
      "include_colab_link": true
    },
    "kernelspec": {
      "name": "python3",
      "display_name": "Python 3"
    }
  },
  "cells": [
    {
      "cell_type": "markdown",
      "metadata": {
        "id": "view-in-github",
        "colab_type": "text"
      },
      "source": [
        "<a href=\"https://colab.research.google.com/github/ranjiGT/Python_Basics/blob/master/Transfer_Statements.ipynb\" target=\"_parent\"><img src=\"https://colab.research.google.com/assets/colab-badge.svg\" alt=\"Open In Colab\"/></a>"
      ]
    },
    {
      "cell_type": "markdown",
      "metadata": {
        "id": "aesV8gMI3F_r",
        "colab_type": "text"
      },
      "source": [
        "# ***break***\n",
        "\n",
        "*Terminates the control*\n"
      ]
    },
    {
      "cell_type": "code",
      "metadata": {
        "id": "Oex-jEZFM8wb",
        "colab_type": "code",
        "colab": {}
      },
      "source": [
        "for alphabet in \"Porsche\":\n",
        "  if alphabet == \"c\":\n",
        "    break\n",
        "  print(\"Current letter: \",alphabet) "
      ],
      "execution_count": null,
      "outputs": []
    },
    {
      "cell_type": "markdown",
      "metadata": {
        "id": "La_ghtGk3Lr2",
        "colab_type": "text"
      },
      "source": [
        "# ***continue***\n",
        "\n",
        "*Gives control to the condition*"
      ]
    },
    {
      "cell_type": "code",
      "metadata": {
        "id": "NrqGnCDSN40B",
        "colab_type": "code",
        "colab": {}
      },
      "source": [
        "for alphabet in \"Porsche\":\n",
        "  if alphabet == \"c\":\n",
        "    continue\n",
        "  print(\"Current letter: \",alphabet) "
      ],
      "execution_count": null,
      "outputs": []
    },
    {
      "cell_type": "markdown",
      "metadata": {
        "id": "QHuuIcrh3Osh",
        "colab_type": "text"
      },
      "source": [
        "# ***pass***\n",
        "\n",
        "*Serves as an empty or null statement/block*"
      ]
    },
    {
      "cell_type": "code",
      "metadata": {
        "id": "6zv_j7QGOONC",
        "colab_type": "code",
        "colab": {}
      },
      "source": [
        "for alphabet in \"Porsche\":\n",
        "  if alphabet == \"c\":\n",
        "    pass\n",
        "    print(\"pass was here!\") \n",
        "  print(\"Current letter: \",alphabet) "
      ],
      "execution_count": null,
      "outputs": []
    }
  ]
}