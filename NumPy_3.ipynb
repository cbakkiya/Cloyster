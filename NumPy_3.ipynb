{
  "nbformat": 4,
  "nbformat_minor": 0,
  "metadata": {
    "colab": {
      "name": "NumPy-3.ipynb",
      "provenance": [],
      "authorship_tag": "ABX9TyNXLSmk2hDxhsRHjJC87yAd",
      "include_colab_link": true
    },
    "kernelspec": {
      "name": "python3",
      "display_name": "Python 3"
    }
  },
  "cells": [
    {
      "cell_type": "markdown",
      "metadata": {
        "id": "view-in-github",
        "colab_type": "text"
      },
      "source": [
        "<a href=\"https://colab.research.google.com/github/ranjiGT/Cloyster/blob/master/NumPy_3.ipynb\" target=\"_parent\"><img src=\"https://colab.research.google.com/assets/colab-badge.svg\" alt=\"Open In Colab\"/></a>"
      ]
    },
    {
      "cell_type": "markdown",
      "metadata": {
        "id": "_IXnSWB0ElV1",
        "colab_type": "text"
      },
      "source": [
        "<font color = \"redr\"> <b>video link</b> --> https://youtu.be/GDCYq8_L0D4\n",
        "\n",
        " # <font color = \"yellow\">***Usage of np.where()</font>***\n",
        "\n",
        "> ***Conditionally adds column(s)***\n",
        "\n"
      ]
    },
    {
      "cell_type": "markdown",
      "metadata": {
        "id": "-H-I3abtGSMh",
        "colab_type": "text"
      },
      "source": [
        "#<font color = \"yellow\"> ***Converting Numerical column into Categorical column***</font>"
      ]
    },
    {
      "cell_type": "code",
      "metadata": {
        "id": "aLJuL9-Oa1pR",
        "colab_type": "code",
        "colab": {}
      },
      "source": [
        "import numpy as np\n",
        "import pandas as pd\n",
        "df = pd.read_csv(\"Ola_Rides_2018.csv\")\n",
        "df\n",
        "df[\"MILESCAT\"] = np.where(df[\"MILES\"] > 5,\"Long Drive\",\"Short Drive\")"
      ],
      "execution_count": null,
      "outputs": []
    },
    {
      "cell_type": "code",
      "metadata": {
        "id": "TPiDufaeHD6w",
        "colab_type": "code",
        "colab": {}
      },
      "source": [
        "df.head(20)"
      ],
      "execution_count": null,
      "outputs": []
    },
    {
      "cell_type": "code",
      "metadata": {
        "id": "GfplythRIJkq",
        "colab_type": "code",
        "colab": {}
      },
      "source": [
        "df[\"MILESCAT\"].value_counts()\n",
        "#df.loc[df[\"MILES\"] > 5].shape"
      ],
      "execution_count": null,
      "outputs": []
    },
    {
      "cell_type": "markdown",
      "metadata": {
        "id": "q4Nv46bEIQhY",
        "colab_type": "text"
      },
      "source": [
        "# <font color=\"yellow\">***Converting into 3 more categories***</font>\n",
        "\n",
        "\n",
        "> <font color=\"red\">***MILES > 10 as LONG DRIVE***\n",
        "\n",
        "\n",
        "> <font color=\"orange\">***5 < MILES < 10 as INTERMEDIATE DRIVE***\n",
        "\n",
        "\n",
        "> <font color=\"pink\">***MILES < 5 as SHORT DRIVE***\n",
        "\n",
        "\n",
        "\n",
        "\n",
        "\n"
      ]
    },
    {
      "cell_type": "markdown",
      "metadata": {
        "id": "CQKNJGy9J2jZ",
        "colab_type": "text"
      },
      "source": [
        "## <font color =\"tan\">***Technique 1***"
      ]
    },
    {
      "cell_type": "code",
      "metadata": {
        "id": "P2SCIshFKCHY",
        "colab_type": "code",
        "colab": {}
      },
      "source": [
        "rules = [(df[\"MILES\"]>10), ((df[\"MILES\"]>=5)&(df[\"MILES\"]<10)), (df[\"MILES\"]<5)]\n",
        "cat = [\"L\",\"I\",\"S\"]\n",
        "df[\"L/I/S\"] = np.select(rules,cat)"
      ],
      "execution_count": null,
      "outputs": []
    },
    {
      "cell_type": "code",
      "metadata": {
        "id": "549sK-ewKiPd",
        "colab_type": "code",
        "colab": {}
      },
      "source": [
        "df.head(10)"
      ],
      "execution_count": null,
      "outputs": []
    },
    {
      "cell_type": "markdown",
      "metadata": {
        "id": "eZlF7Kz1Ldky",
        "colab_type": "text"
      },
      "source": [
        "## <font color =\"tan\">***Technique 2***"
      ]
    },
    {
      "cell_type": "code",
      "metadata": {
        "id": "GAy8Ft_5LaoU",
        "colab_type": "code",
        "colab": {}
      },
      "source": [
        "df[\"L/M/S\"] = np.where(df[\"MILES\"]>10,\"L\",np.where(df[\"MILES\"]<5,\"S\",\"M\"))"
      ],
      "execution_count": null,
      "outputs": []
    },
    {
      "cell_type": "code",
      "metadata": {
        "id": "WwL3Ddt0Lrlx",
        "colab_type": "code",
        "colab": {}
      },
      "source": [
        "df.head(10)"
      ],
      "execution_count": null,
      "outputs": []
    }
  ]
}