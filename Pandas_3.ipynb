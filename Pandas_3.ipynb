{
  "nbformat": 4,
  "nbformat_minor": 0,
  "metadata": {
    "colab": {
      "name": "Pandas-3.ipynb",
      "provenance": [],
      "authorship_tag": "ABX9TyPEXBrgCqV/wwQMVmYCfYL4",
      "include_colab_link": true
    },
    "kernelspec": {
      "name": "python3",
      "display_name": "Python 3"
    }
  },
  "cells": [
    {
      "cell_type": "markdown",
      "metadata": {
        "id": "view-in-github",
        "colab_type": "text"
      },
      "source": [
        "<a href=\"https://colab.research.google.com/github/ranjiGT/Python_Basics/blob/master/Pandas_3.ipynb\" target=\"_parent\"><img src=\"https://colab.research.google.com/assets/colab-badge.svg\" alt=\"Open In Colab\"/></a>"
      ]
    },
    {
      "cell_type": "markdown",
      "metadata": {
        "id": "ScV52_4l6sGZ",
        "colab_type": "text"
      },
      "source": [
        "<font color='red'>**Video link** --> https://youtu.be/KO79DCOz7Fo\n",
        "\n",
        "*All about pandas* --> https://pandas.pydata.org/pandas-docs/stable/reference/frame.html"
      ]
    },
    {
      "cell_type": "markdown",
      "metadata": {
        "id": "k6D9b5n36zfX",
        "colab_type": "text"
      },
      "source": [
        "# ***Data Summarization***"
      ]
    },
    {
      "cell_type": "markdown",
      "metadata": {
        "id": "r3UJ-3Np68zO",
        "colab_type": "text"
      },
      "source": [
        "## ***Usage of Group By with aggregate function***"
      ]
    },
    {
      "cell_type": "code",
      "metadata": {
        "id": "1l-oF1AKAV-I",
        "colab_type": "code",
        "colab": {}
      },
      "source": [
        "import pandas as pd\n",
        "df = pd.read_csv(\"Ola_Rides_2018.csv\")\n",
        "df.dtypes"
      ],
      "execution_count": null,
      "outputs": []
    },
    {
      "cell_type": "code",
      "metadata": {
        "id": "ONd5S5zz671d",
        "colab_type": "code",
        "colab": {}
      },
      "source": [
        "df.groupby([\"DESTINATION\"]).mean() #groupby on non-numeric and agg on numeric (default for all numeric cols) # works only with mean()"
      ],
      "execution_count": null,
      "outputs": []
    },
    {
      "cell_type": "code",
      "metadata": {
        "id": "RCDeq78q6ky4",
        "colab_type": "code",
        "colab": {}
      },
      "source": [
        "#df.groupby([\"DESTINATION\"])[\"MILES\"].agg(\"mean\") #on MILES & result is a series\n",
        "df.groupby([\"DESTINATION\"])[\"PRICE-MILES*\"].agg(\"mean\") # on PRICE-MILES & result is a series"
      ],
      "execution_count": null,
      "outputs": []
    },
    {
      "cell_type": "markdown",
      "metadata": {
        "id": "KeGdbSTz7Sdp",
        "colab_type": "text"
      },
      "source": [
        "# ***Multiple Grouping***"
      ]
    },
    {
      "cell_type": "code",
      "metadata": {
        "id": "N2Hgtpjw7WiT",
        "colab_type": "code",
        "colab": {}
      },
      "source": [
        "df.groupby([\"SOURCE\",\"DESTINATION\"]).agg([\"mean\",\"sum\",\"min\"])"
      ],
      "execution_count": null,
      "outputs": []
    },
    {
      "cell_type": "markdown",
      "metadata": {
        "id": "10WOyPrS7cb6",
        "colab_type": "text"
      },
      "source": [
        "# ***Activity - First ride and last ride along with average distance from where the trip started***"
      ]
    },
    {
      "cell_type": "code",
      "metadata": {
        "id": "a1HvnMxD7eTo",
        "colab_type": "code",
        "colab": {}
      },
      "source": [
        "df1 = df[:-1:]\n",
        "df1[\"FROM\"] = pd.to_datetime(df1[\"FROM\"], errors='coerce')\n",
        "df1[\"TO\"] = pd.to_datetime(df1[\"TO\"], errors='coerce')"
      ],
      "execution_count": null,
      "outputs": []
    },
    {
      "cell_type": "code",
      "metadata": {
        "id": "yowsAVUL7hhO",
        "colab_type": "code",
        "colab": {}
      },
      "source": [
        "res = df1.groupby([\"SOURCE\",\"DESTINATION\"]).agg({\"MILES\":[\"mean\"], \"FROM\":[\"min\",\"max\"]} )\n",
        "res.reset_index(inplace=True)\n",
        "res.columns = [\"SOURCE*\",\"DESTINATION*\",\"AGG-DIST*\",\"FIRST TRIP*\",\"LATEST TRIP*\",]\n",
        "res"
      ],
      "execution_count": null,
      "outputs": []
    }
  ]
}