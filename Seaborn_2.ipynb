{
  "nbformat": 4,
  "nbformat_minor": 0,
  "metadata": {
    "colab": {
      "name": "Seaborn-2.ipynb",
      "provenance": [],
      "authorship_tag": "ABX9TyO5tkouvkZ5zHvLn08NBr0E",
      "include_colab_link": true
    },
    "kernelspec": {
      "name": "python3",
      "display_name": "Python 3"
    }
  },
  "cells": [
    {
      "cell_type": "markdown",
      "metadata": {
        "id": "view-in-github",
        "colab_type": "text"
      },
      "source": [
        "<a href=\"https://colab.research.google.com/github/ranjiGT/Cloyster/blob/master/Seaborn_2.ipynb\" target=\"_parent\"><img src=\"https://colab.research.google.com/assets/colab-badge.svg\" alt=\"Open In Colab\"/></a>"
      ]
    },
    {
      "cell_type": "markdown",
      "metadata": {
        "id": "IghoPU1lnG59",
        "colab_type": "text"
      },
      "source": [
        "<font color='red'>***video link***</font> -->  https://youtu.be/8Ly8MDXyXog\n",
        "#<font color='lightgreen'> ***Correlation Analysis***</font>"
      ]
    },
    {
      "cell_type": "code",
      "metadata": {
        "id": "PP11sWbPmN_V",
        "colab_type": "code",
        "colab": {}
      },
      "source": [
        "import pandas as pd\n",
        "import seaborn as sns"
      ],
      "execution_count": null,
      "outputs": []
    },
    {
      "cell_type": "code",
      "metadata": {
        "id": "bjvZXTqxmeMM",
        "colab_type": "code",
        "colab": {}
      },
      "source": [
        "df = pd.read_csv(\"CardioGoodFitness.csv\")\n",
        "df"
      ],
      "execution_count": null,
      "outputs": []
    },
    {
      "cell_type": "code",
      "metadata": {
        "id": "qok6Wop5mku2",
        "colab_type": "code",
        "colab": {}
      },
      "source": [
        "corr = df.corr()\n",
        "corr"
      ],
      "execution_count": null,
      "outputs": []
    },
    {
      "cell_type": "code",
      "metadata": {
        "id": "gfMvrg65mqPK",
        "colab_type": "code",
        "colab": {}
      },
      "source": [
        "sns.heatmap(corr, annot=True)"
      ],
      "execution_count": null,
      "outputs": []
    },
    {
      "cell_type": "code",
      "metadata": {
        "id": "Mwx4denZm1--",
        "colab_type": "code",
        "colab": {}
      },
      "source": [
        "sns.pairplot(df)"
      ],
      "execution_count": null,
      "outputs": []
    }
  ]
}