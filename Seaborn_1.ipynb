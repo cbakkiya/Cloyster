{
  "nbformat": 4,
  "nbformat_minor": 0,
  "metadata": {
    "colab": {
      "name": "Seaborn-1.ipynb",
      "provenance": [],
      "authorship_tag": "ABX9TyM+L4AtH3hEFjdvqDeAxhzT",
      "include_colab_link": true
    },
    "kernelspec": {
      "name": "python3",
      "display_name": "Python 3"
    }
  },
  "cells": [
    {
      "cell_type": "markdown",
      "metadata": {
        "id": "view-in-github",
        "colab_type": "text"
      },
      "source": [
        "<a href=\"https://colab.research.google.com/github/ranjiGT/Cloyster/blob/master/Seaborn_1.ipynb\" target=\"_parent\"><img src=\"https://colab.research.google.com/assets/colab-badge.svg\" alt=\"Open In Colab\"/></a>"
      ]
    },
    {
      "cell_type": "markdown",
      "metadata": {
        "id": "y3eMfgrrz7x3",
        "colab_type": "text"
      },
      "source": [
        "<font color='redr'>***video link***</font> --> https://youtu.be/63CsUiggJA8\n",
        "\n",
        "https://seaborn.pydata.org/#"
      ]
    },
    {
      "cell_type": "markdown",
      "metadata": {
        "id": "mEv1GhUhMYG9",
        "colab_type": "text"
      },
      "source": [
        "#<font color='red'> ***Basic Descriptive Stats***"
      ]
    },
    {
      "cell_type": "code",
      "metadata": {
        "id": "aTKqKEe-zaXA",
        "colab_type": "code",
        "colab": {}
      },
      "source": [
        "import pandas as pd\n",
        "import seaborn as sns\n",
        "df = pd.read_csv('CardioGoodFitness.csv')\n",
        "df"
      ],
      "execution_count": null,
      "outputs": []
    },
    {
      "cell_type": "code",
      "metadata": {
        "id": "EWyizS4N0Rtg",
        "colab_type": "code",
        "colab": {}
      },
      "source": [
        "df.head()"
      ],
      "execution_count": null,
      "outputs": []
    },
    {
      "cell_type": "code",
      "metadata": {
        "id": "PUMSfaUhGc1b",
        "colab_type": "code",
        "colab": {}
      },
      "source": [
        "df[\"Product\"].value_counts()"
      ],
      "execution_count": null,
      "outputs": []
    },
    {
      "cell_type": "code",
      "metadata": {
        "id": "SCPpmJzJ0UwZ",
        "colab_type": "code",
        "colab": {}
      },
      "source": [
        "df.describe(include=\"all\")"
      ],
      "execution_count": null,
      "outputs": []
    },
    {
      "cell_type": "markdown",
      "metadata": {
        "id": "LlWBkAIsDkex",
        "colab_type": "text"
      },
      "source": [
        "# ***Graphical representation***"
      ]
    },
    {
      "cell_type": "code",
      "metadata": {
        "id": "fMV62v0J0b2n",
        "colab_type": "code",
        "colab": {}
      },
      "source": [
        "df.info()"
      ],
      "execution_count": null,
      "outputs": []
    },
    {
      "cell_type": "markdown",
      "metadata": {
        "id": "o5-bHt3MMT75",
        "colab_type": "text"
      },
      "source": [
        "#<font color='red'> ***Boxplot***"
      ]
    },
    {
      "cell_type": "code",
      "metadata": {
        "id": "rsEiOuzl0xtr",
        "colab_type": "code",
        "colab": {}
      },
      "source": [
        "sns.boxplot(x=\"Gender\", y=\"Age\", data=df,palette=\"Greens\")"
      ],
      "execution_count": null,
      "outputs": []
    },
    {
      "cell_type": "markdown",
      "metadata": {
        "id": "R_2n0rtlMQU-",
        "colab_type": "text"
      },
      "source": [
        "#<font color='red'> ***Countplot***"
      ]
    },
    {
      "cell_type": "code",
      "metadata": {
        "id": "5UpWXFpU1303",
        "colab_type": "code",
        "colab": {}
      },
      "source": [
        "sns.countplot(x=\"Product\", hue=\"Gender\", data=df, palette=\"magma\")"
      ],
      "execution_count": null,
      "outputs": []
    },
    {
      "cell_type": "markdown",
      "metadata": {
        "id": "__H4xRsvMMaY",
        "colab_type": "text"
      },
      "source": [
        "#<font color='red'> ***Pairplot***"
      ]
    },
    {
      "cell_type": "code",
      "metadata": {
        "id": "VABZrn7318Kb",
        "colab_type": "code",
        "colab": {}
      },
      "source": [
        "sns.pairplot(df)"
      ],
      "execution_count": null,
      "outputs": []
    },
    {
      "cell_type": "markdown",
      "metadata": {
        "id": "vZwWE-OjL4zA",
        "colab_type": "text"
      },
      "source": [
        "#<font color='red'> ***Distplot***"
      ]
    },
    {
      "cell_type": "code",
      "metadata": {
        "id": "j2cLDp1p2JOK",
        "colab_type": "code",
        "colab": {}
      },
      "source": [
        "sns.distplot(df['Age'], color='red',kde=True) #kde default"
      ],
      "execution_count": null,
      "outputs": []
    },
    {
      "cell_type": "markdown",
      "metadata": {
        "id": "XPEh28lkMF8m",
        "colab_type": "text"
      },
      "source": [
        "#<font color='red'> ***Regplot***"
      ]
    },
    {
      "cell_type": "code",
      "metadata": {
        "id": "fFy8zhAaLvC6",
        "colab_type": "code",
        "colab": {}
      },
      "source": [
        "sns.regplot(x = \"Age\", y = \"Income\", data=df, color='orange')"
      ],
      "execution_count": null,
      "outputs": []
    }
  ]
}