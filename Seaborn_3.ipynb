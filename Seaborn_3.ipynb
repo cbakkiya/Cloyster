{
  "nbformat": 4,
  "nbformat_minor": 0,
  "metadata": {
    "colab": {
      "name": "Seaborn-3.ipynb",
      "provenance": [],
      "authorship_tag": "ABX9TyNvjcs44c09wyULsG7QtNe8",
      "include_colab_link": true
    },
    "kernelspec": {
      "name": "python3",
      "display_name": "Python 3"
    }
  },
  "cells": [
    {
      "cell_type": "markdown",
      "metadata": {
        "id": "view-in-github",
        "colab_type": "text"
      },
      "source": [
        "<a href=\"https://colab.research.google.com/github/ranjiGT/Cloyster/blob/master/Seaborn_3.ipynb\" target=\"_parent\"><img src=\"https://colab.research.google.com/assets/colab-badge.svg\" alt=\"Open In Colab\"/></a>"
      ]
    },
    {
      "cell_type": "markdown",
      "metadata": {
        "id": "-meQKEnrU4aA",
        "colab_type": "text"
      },
      "source": [
        "<font color='yellow'>***video link***</font> --> https://youtu.be/cXXMI7PFgEU\n",
        "\n",
        "#<font color ='blue'> ***Outlier removal***</font>\n",
        "\n",
        "#<font color ='blue'> ***Subplots***</font>\n",
        "\n",
        "\n",
        "\n"
      ]
    },
    {
      "cell_type": "code",
      "metadata": {
        "id": "j0zyAMxWQv6I",
        "colab_type": "code",
        "colab": {}
      },
      "source": [
        "import pandas as pd\n",
        "import seaborn as sns\n",
        "import matplotlib.pyplot as plt \n",
        "%matplotlib inline "
      ],
      "execution_count": null,
      "outputs": []
    },
    {
      "cell_type": "code",
      "metadata": {
        "id": "VUMn_cHKRBJq",
        "colab_type": "code",
        "colab": {}
      },
      "source": [
        "df = pd.read_csv(\"housing_prices.csv\")\n",
        "df.head(10)\n",
        "df.size"
      ],
      "execution_count": null,
      "outputs": []
    },
    {
      "cell_type": "code",
      "metadata": {
        "id": "ZkUVQQzuRL_A",
        "colab_type": "code",
        "colab": {}
      },
      "source": [
        "df.columns"
      ],
      "execution_count": null,
      "outputs": []
    },
    {
      "cell_type": "markdown",
      "metadata": {
        "id": "dEHI8jIDRZhd",
        "colab_type": "text"
      },
      "source": [
        "#<font color='red'> ***Bivariate analysis: To check dependency between lot area and price of house***"
      ]
    },
    {
      "cell_type": "code",
      "metadata": {
        "id": "MTgcTvoLRkQ5",
        "colab_type": "code",
        "colab": {}
      },
      "source": [
        "sns.regplot(x = \"LotArea\", y = \"SalePrice\", data=df, color='purple')"
      ],
      "execution_count": null,
      "outputs": []
    },
    {
      "cell_type": "markdown",
      "metadata": {
        "id": "jdWuUU7RRzNI",
        "colab_type": "text"
      },
      "source": [
        "#<font color='redr'> ***Outlier treatment***</font>"
      ]
    },
    {
      "cell_type": "code",
      "metadata": {
        "id": "b_ls7vMoRy60",
        "colab_type": "code",
        "colab": {}
      },
      "source": [
        "df[\"LotArea\"].quantile([0.5,0.95,0.99]) #quantile to remove outliers; find percentile\n",
        "df_filt = df.loc[df[\"LotArea\"] < df[\"LotArea\"].quantile(0.95)]\n",
        "#df_filt"
      ],
      "execution_count": null,
      "outputs": []
    },
    {
      "cell_type": "code",
      "metadata": {
        "id": "y-epA5ucUJxo",
        "colab_type": "code",
        "colab": {}
      },
      "source": [
        "sns.regplot(x = \"LotArea\", y = \"SalePrice\", data=df_filt, color='purple')"
      ],
      "execution_count": null,
      "outputs": []
    },
    {
      "cell_type": "markdown",
      "metadata": {
        "id": "DkVJfwjJX077",
        "colab_type": "text"
      },
      "source": [
        "#<font color='orange'>***Subplot: Analysis of Sales price with Square Feet***</font>"
      ]
    },
    {
      "cell_type": "code",
      "metadata": {
        "id": "os4rK6A5YWv_",
        "colab_type": "code",
        "colab": {}
      },
      "source": [
        "sf=[val for val in df.columns if \"SF\" in val]\n",
        "sf[3]"
      ],
      "execution_count": null,
      "outputs": []
    },
    {
      "cell_type": "code",
      "metadata": {
        "id": "p1L8u1gSY99O",
        "colab_type": "code",
        "colab": {}
      },
      "source": [
        "fig, axes = plt.subplots(nrows = 3,ncols = 3, figsize = (10,10)) #nesting \n",
        "for i in range(0, len(sf)):\n",
        "    rows = i // 3\n",
        "    cols = i % 3\n",
        "    print(rows,cols)\n",
        "    ax = axes[rows, cols]\n",
        "    plot = sns.regplot(x = sf[i], y = \"SalePrice\", data=df, ax=ax, color='purple')"
      ],
      "execution_count": null,
      "outputs": []
    }
  ]
}